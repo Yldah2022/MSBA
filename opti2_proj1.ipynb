{
  "nbformat": 4,
  "nbformat_minor": 0,
  "metadata": {
    "colab": {
      "provenance": [],
      "gpuType": "T4"
    },
    "kernelspec": {
      "name": "python3",
      "display_name": "Python 3"
    },
    "language_info": {
      "name": "python"
    },
    "accelerator": "GPU"
  },
  "cells": [
    {
      "cell_type": "code",
      "source": [
        "import tensorflow as tf\n",
        "from tensorflow.keras.models import Sequential\n",
        "from tensorflow.keras.layers import Dense, Dropout, Flatten, Conv2D, MaxPooling2D, BatchNormalization\n",
        "from tensorflow.keras.regularizers import l2"
      ],
      "metadata": {
        "id": "0-8F7je0oTjy"
      },
      "execution_count": null,
      "outputs": []
    },
    {
      "cell_type": "code",
      "source": [
        "mnist = tf.keras.datasets.mnist\n",
        "\n",
        "(x_train, y_train),(x_test, y_test) = mnist.load_data()\n",
        "x_train, x_test = x_train / 255.0, x_test / 255.0\n",
        "\n",
        "ndata_train = x_train.shape[0]\n",
        "ndata_test = x_test.shape[0]\n",
        "\n",
        "x_train = x_train.reshape((ndata_train,28,28,1))\n",
        "x_test = x_test.reshape((ndata_test,28,28,1))\n",
        "\n",
        "xshape = x_train.shape[1:4]"
      ],
      "metadata": {
        "colab": {
          "base_uri": "https://localhost:8080/"
        },
        "id": "6o8lQHZDoV-l",
        "outputId": "a369f4b2-efa7-4539-d512-953b4469e8fb"
      },
      "execution_count": null,
      "outputs": [
        {
          "output_type": "stream",
          "name": "stdout",
          "text": [
            "Downloading data from https://storage.googleapis.com/tensorflow/tf-keras-datasets/mnist.npz\n",
            "11490434/11490434 [==============================] - 1s 0us/step\n"
          ]
        }
      ]
    },
    {
      "cell_type": "code",
      "source": [
        "import tensorflow as tf\n",
        "from tensorflow.keras.datasets import mnist\n",
        "from tensorflow.keras.callbacks import ReduceLROnPlateau, EarlyStopping\n",
        "\n",
        "# Load and preprocess data\n",
        "(x_train, y_train), (x_test, y_test) = mnist.load_data()\n",
        "x_train, x_test = x_train / 255.0, x_test / 255.0\n",
        "x_train = x_train.reshape((-1, 28, 28, 1))\n",
        "x_test = x_test.reshape((-1, 28, 28, 1))\n",
        "xshape = x_train.shape[1:]\n",
        "\n",
        "# Model configuration\n",
        "CNNModel = tf.keras.models.Sequential([\n",
        "    tf.keras.layers.Conv2D(filters=16, kernel_size=(3,3), activation=tf.nn.relu,input_shape=xshape),\n",
        "    tf.keras.layers.Conv2D(filters=16, kernel_size=(3,3), activation=tf.nn.relu),\n",
        "    tf.keras.layers.BatchNormalization(),\n",
        "    tf.keras.layers.MaxPooling2D(pool_size=(2,2), strides=2),\n",
        "    tf.keras.layers.Dropout(0.2),\n",
        "\n",
        "    tf.keras.layers.Conv2D(filters=32, kernel_size=(3,3), activation=tf.nn.relu),\n",
        "    tf.keras.layers.Conv2D(filters=32, kernel_size=(3,3), activation=tf.nn.relu),\n",
        "    tf.keras.layers.BatchNormalization(),\n",
        "    tf.keras.layers.MaxPooling2D(pool_size=(2,2), strides=2),\n",
        "    tf.keras.layers.Dropout(0.2),\n",
        "\n",
        "    tf.keras.layers.Flatten(),\n",
        "    tf.keras.layers.Dense(128, activation=tf.nn.relu, kernel_regularizer=tf.keras.regularizers.l1(0.0002)),\n",
        "    tf.keras.layers.Dropout(0.3),\n",
        "\n",
        "    tf.keras.layers.Dense(64, activation=tf.nn.softplus, kernel_regularizer=tf.keras.regularizers.l1(0.0005)),\n",
        "    tf.keras.layers.Dropout(0.3),\n",
        "\n",
        "    tf.keras.layers.Dense(10, activation=tf.nn.softmax)\n",
        "])\n",
        "\n",
        "CNNModel.compile(optimizer='adam', loss='sparse_categorical_crossentropy', metrics=['accuracy'])\n",
        "\n",
        "# ReduceLROnPlateau callback\n",
        "reduce_lr = tf.keras.callbacks.ReduceLROnPlateau(monitor='val_loss', factor=0.5, patience=2, min_lr=0.0005)\n",
        "early_stopping = EarlyStopping(monitor='val_loss', patience=8, restore_best_weights=True)\n",
        "\n",
        "CNNModel.summary()\n",
        "\n",
        "# Fit the model with the ReduceLROnPlateau callback\n",
        "CNNModel.fit(x_train, y_train, epochs=30, validation_split=0.2, batch_size=500, callbacks=[reduce_lr, early_stopping])"
      ],
      "metadata": {
        "colab": {
          "base_uri": "https://localhost:8080/"
        },
        "id": "0rqNUdOSoWLu",
        "outputId": "8e33f494-f145-48ce-81e2-84229f9bf19b"
      },
      "execution_count": null,
      "outputs": [
        {
          "output_type": "stream",
          "name": "stdout",
          "text": [
            "Model: \"sequential\"\n",
            "_________________________________________________________________\n",
            " Layer (type)                Output Shape              Param #   \n",
            "=================================================================\n",
            " conv2d (Conv2D)             (None, 26, 26, 16)        160       \n",
            "                                                                 \n",
            " conv2d_1 (Conv2D)           (None, 24, 24, 16)        2320      \n",
            "                                                                 \n",
            " batch_normalization (Batch  (None, 24, 24, 16)        64        \n",
            " Normalization)                                                  \n",
            "                                                                 \n",
            " max_pooling2d (MaxPooling2  (None, 12, 12, 16)        0         \n",
            " D)                                                              \n",
            "                                                                 \n",
            " dropout (Dropout)           (None, 12, 12, 16)        0         \n",
            "                                                                 \n",
            " conv2d_2 (Conv2D)           (None, 10, 10, 32)        4640      \n",
            "                                                                 \n",
            " conv2d_3 (Conv2D)           (None, 8, 8, 32)          9248      \n",
            "                                                                 \n",
            " batch_normalization_1 (Bat  (None, 8, 8, 32)          128       \n",
            " chNormalization)                                                \n",
            "                                                                 \n",
            " max_pooling2d_1 (MaxPoolin  (None, 4, 4, 32)          0         \n",
            " g2D)                                                            \n",
            "                                                                 \n",
            " dropout_1 (Dropout)         (None, 4, 4, 32)          0         \n",
            "                                                                 \n",
            " flatten (Flatten)           (None, 512)               0         \n",
            "                                                                 \n",
            " dense (Dense)               (None, 128)               65664     \n",
            "                                                                 \n",
            " dropout_2 (Dropout)         (None, 128)               0         \n",
            "                                                                 \n",
            " dense_1 (Dense)             (None, 64)                8256      \n",
            "                                                                 \n",
            " dropout_3 (Dropout)         (None, 64)                0         \n",
            "                                                                 \n",
            " dense_2 (Dense)             (None, 10)                650       \n",
            "                                                                 \n",
            "=================================================================\n",
            "Total params: 91130 (355.98 KB)\n",
            "Trainable params: 91034 (355.60 KB)\n",
            "Non-trainable params: 96 (384.00 Byte)\n",
            "_________________________________________________________________\n",
            "Epoch 1/30\n",
            "96/96 [==============================] - 11s 24ms/step - loss: 1.7984 - accuracy: 0.7310 - val_loss: 3.7060 - val_accuracy: 0.1069 - lr: 0.0010\n",
            "Epoch 2/30\n",
            "96/96 [==============================] - 1s 15ms/step - loss: 1.0343 - accuracy: 0.9404 - val_loss: 3.8004 - val_accuracy: 0.1527 - lr: 0.0010\n",
            "Epoch 3/30\n",
            "96/96 [==============================] - 1s 15ms/step - loss: 0.8317 - accuracy: 0.9615 - val_loss: 1.8408 - val_accuracy: 0.5937 - lr: 0.0010\n",
            "Epoch 4/30\n",
            "96/96 [==============================] - 1s 16ms/step - loss: 0.6741 - accuracy: 0.9700 - val_loss: 1.0236 - val_accuracy: 0.8481 - lr: 0.0010\n",
            "Epoch 5/30\n",
            "96/96 [==============================] - 1s 16ms/step - loss: 0.5545 - accuracy: 0.9727 - val_loss: 0.5437 - val_accuracy: 0.9726 - lr: 0.0010\n",
            "Epoch 6/30\n",
            "96/96 [==============================] - 2s 17ms/step - loss: 0.4564 - accuracy: 0.9759 - val_loss: 0.3893 - val_accuracy: 0.9867 - lr: 0.0010\n",
            "Epoch 7/30\n",
            "96/96 [==============================] - 2s 16ms/step - loss: 0.3866 - accuracy: 0.9772 - val_loss: 0.3191 - val_accuracy: 0.9883 - lr: 0.0010\n",
            "Epoch 8/30\n",
            "96/96 [==============================] - 2s 16ms/step - loss: 0.3354 - accuracy: 0.9765 - val_loss: 0.2717 - val_accuracy: 0.9888 - lr: 0.0010\n",
            "Epoch 9/30\n",
            "96/96 [==============================] - 2s 18ms/step - loss: 0.2955 - accuracy: 0.9782 - val_loss: 0.2409 - val_accuracy: 0.9883 - lr: 0.0010\n",
            "Epoch 10/30\n",
            "96/96 [==============================] - 2s 16ms/step - loss: 0.2664 - accuracy: 0.9790 - val_loss: 0.2206 - val_accuracy: 0.9887 - lr: 0.0010\n",
            "Epoch 11/30\n",
            "96/96 [==============================] - 2s 16ms/step - loss: 0.2465 - accuracy: 0.9796 - val_loss: 0.1980 - val_accuracy: 0.9908 - lr: 0.0010\n",
            "Epoch 12/30\n",
            "96/96 [==============================] - 2s 16ms/step - loss: 0.2295 - accuracy: 0.9804 - val_loss: 0.1918 - val_accuracy: 0.9889 - lr: 0.0010\n",
            "Epoch 13/30\n",
            "96/96 [==============================] - 2s 16ms/step - loss: 0.2169 - accuracy: 0.9810 - val_loss: 0.1781 - val_accuracy: 0.9901 - lr: 0.0010\n",
            "Epoch 14/30\n",
            "96/96 [==============================] - 1s 16ms/step - loss: 0.2022 - accuracy: 0.9822 - val_loss: 0.1734 - val_accuracy: 0.9886 - lr: 0.0010\n",
            "Epoch 15/30\n",
            "96/96 [==============================] - 1s 16ms/step - loss: 0.1962 - accuracy: 0.9829 - val_loss: 0.1660 - val_accuracy: 0.9885 - lr: 0.0010\n",
            "Epoch 16/30\n",
            "96/96 [==============================] - 2s 17ms/step - loss: 0.1857 - accuracy: 0.9839 - val_loss: 0.1562 - val_accuracy: 0.9914 - lr: 0.0010\n",
            "Epoch 17/30\n",
            "96/96 [==============================] - 2s 16ms/step - loss: 0.1829 - accuracy: 0.9836 - val_loss: 0.1511 - val_accuracy: 0.9914 - lr: 0.0010\n",
            "Epoch 18/30\n",
            "96/96 [==============================] - 2s 16ms/step - loss: 0.1803 - accuracy: 0.9833 - val_loss: 0.1484 - val_accuracy: 0.9909 - lr: 0.0010\n",
            "Epoch 19/30\n",
            "96/96 [==============================] - 1s 16ms/step - loss: 0.1711 - accuracy: 0.9851 - val_loss: 0.1451 - val_accuracy: 0.9910 - lr: 0.0010\n",
            "Epoch 20/30\n",
            "96/96 [==============================] - 2s 16ms/step - loss: 0.1678 - accuracy: 0.9846 - val_loss: 0.1392 - val_accuracy: 0.9916 - lr: 0.0010\n",
            "Epoch 21/30\n",
            "96/96 [==============================] - 2s 16ms/step - loss: 0.1637 - accuracy: 0.9850 - val_loss: 0.1384 - val_accuracy: 0.9918 - lr: 0.0010\n",
            "Epoch 22/30\n",
            "96/96 [==============================] - 1s 15ms/step - loss: 0.1578 - accuracy: 0.9858 - val_loss: 0.1446 - val_accuracy: 0.9891 - lr: 0.0010\n",
            "Epoch 23/30\n",
            "96/96 [==============================] - 2s 16ms/step - loss: 0.1582 - accuracy: 0.9853 - val_loss: 0.1320 - val_accuracy: 0.9921 - lr: 0.0010\n",
            "Epoch 24/30\n",
            "96/96 [==============================] - 2s 17ms/step - loss: 0.1542 - accuracy: 0.9851 - val_loss: 0.1425 - val_accuracy: 0.9897 - lr: 0.0010\n",
            "Epoch 25/30\n",
            "96/96 [==============================] - 2s 16ms/step - loss: 0.1513 - accuracy: 0.9860 - val_loss: 0.1293 - val_accuracy: 0.9930 - lr: 0.0010\n",
            "Epoch 26/30\n",
            "96/96 [==============================] - 2s 16ms/step - loss: 0.1479 - accuracy: 0.9865 - val_loss: 0.1320 - val_accuracy: 0.9915 - lr: 0.0010\n",
            "Epoch 27/30\n",
            "96/96 [==============================] - 2s 18ms/step - loss: 0.1468 - accuracy: 0.9865 - val_loss: 0.1296 - val_accuracy: 0.9923 - lr: 0.0010\n",
            "Epoch 28/30\n",
            "96/96 [==============================] - 2s 17ms/step - loss: 0.1334 - accuracy: 0.9883 - val_loss: 0.1123 - val_accuracy: 0.9927 - lr: 5.0000e-04\n",
            "Epoch 29/30\n",
            "96/96 [==============================] - 2s 16ms/step - loss: 0.1286 - accuracy: 0.9885 - val_loss: 0.1117 - val_accuracy: 0.9927 - lr: 5.0000e-04\n",
            "Epoch 30/30\n",
            "96/96 [==============================] - 2s 16ms/step - loss: 0.1268 - accuracy: 0.9884 - val_loss: 0.1092 - val_accuracy: 0.9925 - lr: 5.0000e-04\n"
          ]
        },
        {
          "output_type": "execute_result",
          "data": {
            "text/plain": [
              "<keras.src.callbacks.History at 0x7c269f8b27a0>"
            ]
          },
          "metadata": {},
          "execution_count": 5
        }
      ]
    },
    {
      "cell_type": "code",
      "source": [
        "# predicted probabilities for test data\n",
        "y_test_prob = CNNModel.predict(x_test)\n",
        "\n",
        "# final prediction\n",
        "y_test_pred = y_test_prob.argmax(axis=1)\n",
        "\n",
        "from sklearn.metrics import accuracy_score\n",
        "print('Accuracy on Test Dataset for CNN', round(100*accuracy_score(y_test, y_test_pred), 2), '%')\n"
      ],
      "metadata": {
        "colab": {
          "base_uri": "https://localhost:8080/"
        },
        "id": "_dIDazU4JJl0",
        "outputId": "9631fade-ad6a-48fa-d620-2ce2ce620bdf"
      },
      "execution_count": null,
      "outputs": [
        {
          "output_type": "stream",
          "name": "stdout",
          "text": [
            "313/313 [==============================] - 1s 4ms/step\n",
            "Accuracy on Test Dataset for CNN 99.46 %\n"
          ]
        }
      ]
    },
    {
      "cell_type": "code",
      "source": [
        "#Miscalssification\n",
        "import numpy as np\n",
        "import matplotlib.pyplot as plt\n",
        "\n",
        "# Find the indices of correctly classified images\n",
        "correct_indices = np.where(y_test_pred == y_test)[0]\n",
        "\n",
        "# Plot a few of the well-classified numbers\n",
        "plt.figure(figsize=(15, 8))  # Increase the figure size to fit more images\n",
        "\n",
        "# Display 10 well-classified images\n",
        "for i, correct_index in enumerate(correct_indices[:10]):  # Adjust the number of images you want to display\n",
        "    plt.subplot(2, 5, i + 1)  # Adjust for 10 images; 2 rows and 5 columns\n",
        "    plt.imshow(np.squeeze(x_test[correct_index]), cmap='gray')\n",
        "    plt.title(f\"True: {y_test[correct_index]}, Pred: {y_test_pred[correct_index]}\")\n",
        "    plt.axis('off')\n",
        "\n",
        "plt.tight_layout()\n",
        "plt.suptitle('Well-Classified Images', fontsize=16, y=1.05)\n",
        "plt.show()\n",
        "\n"
      ],
      "metadata": {
        "colab": {
          "base_uri": "https://localhost:8080/",
          "height": 799
        },
        "id": "Fo8H54APFaYc",
        "outputId": "0e859637-1a85-4fe8-93eb-0fc31978bd09"
      },
      "execution_count": null,
      "outputs": [
        {
          "output_type": "display_data",
          "data": {
            "text/plain": [
              "<Figure size 1500x800 with 10 Axes>"
            ],
            "image/png": "[encoded data removed]"
          },
          "metadata": {}
        }
      ]
    },
    {
      "cell_type": "code",
      "source": [
        "# Find the indices of the test set where predictions don't match the true labels\n",
        "misclassified_indices = np.where(y_test_pred != y_test)[0]\n",
        "\n",
        "# Display 10 misclassified images (from the previous code)\n",
        "plt.figure(figsize=(15, 8))  # Increase the figure size to fit more images\n",
        "\n",
        "for i, misclassified_index in enumerate(misclassified_indices[:10]):  # Adjust the number of images you want to display\n",
        "    plt.subplot(2, 5, i + 1)  # Adjust for 10 images; 2 rows and 5 columns\n",
        "    plt.imshow(np.squeeze(x_test[misclassified_index]), cmap='gray')\n",
        "    plt.title(f\"True: {y_test[misclassified_index]}, Pred: {y_test_pred[misclassified_index]}\")\n",
        "    plt.axis('off')\n",
        "\n",
        "plt.tight_layout()\n",
        "plt.suptitle('Misclassified Images', fontsize=16, y=1.05)\n",
        "plt.show()\n"
      ],
      "metadata": {
        "colab": {
          "base_uri": "https://localhost:8080/",
          "height": 799
        },
        "id": "sqv2loUvcOmw",
        "outputId": "f69290c5-d6ea-4563-b9d3-1ea698641df5"
      },
      "execution_count": null,
      "outputs": [
        {
          "output_type": "display_data",
          "data": {
            "text/plain": [
              "<Figure size 1500x800 with 10 Axes>"
            ],
            "image/png": "[encoded data removed]"
          },
          "metadata": {}
        }
      ]
    },
    {
      "cell_type": "code",
      "source": [
        "print(f\"Total well-classified images: {len(correct_indices)}\")\n",
        "print(f\"Total misclassified images: {len(misclassified_indices)}\")"
      ],
      "metadata": {
        "colab": {
          "base_uri": "https://localhost:8080/"
        },
        "id": "niMH0kANcXOB",
        "outputId": "2de8bfd2-960d-4a22-8856-1d4dee8954c5"
      },
      "execution_count": null,
      "outputs": [
        {
          "output_type": "stream",
          "name": "stdout",
          "text": [
            "Total well-classified images: 9946\n",
            "Total misclassified images: 54\n"
          ]
        }
      ]
    },
    {
      "cell_type": "code",
      "source": [
        "from collections import Counter\n",
        "\n",
        "# Pair true and predicted labels for misclassified digits\n",
        "misclassified_pairs = list(zip(y_test[misclassified_indices], y_test_pred[misclassified_indices]))\n",
        "\n",
        "# Count the most common pairs\n",
        "common_misclassifications = Counter(misclassified_pairs).most_common()\n",
        "\n",
        "print(\"Most common misclassifications:\")\n",
        "for (true_label, pred_label), count in common_misclassifications:\n",
        "    print(f\"True: {true_label}, Pred: {pred_label} - Count: {count}\")"
      ],
      "metadata": {
        "colab": {
          "base_uri": "https://localhost:8080/"
        },
        "id": "ArK9W1S_FabN",
        "outputId": "c685acb4-9fdf-489e-a667-650ea8ad3da3"
      },
      "execution_count": null,
      "outputs": [
        {
          "output_type": "stream",
          "name": "stdout",
          "text": [
            "Most common misclassifications:\n",
            "True: 7, Pred: 1 - Count: 4\n",
            "True: 9, Pred: 4 - Count: 4\n",
            "True: 2, Pred: 7 - Count: 3\n",
            "True: 3, Pred: 5 - Count: 3\n",
            "True: 5, Pred: 3 - Count: 3\n",
            "True: 6, Pred: 0 - Count: 3\n",
            "True: 7, Pred: 2 - Count: 3\n",
            "True: 8, Pred: 2 - Count: 2\n",
            "True: 9, Pred: 5 - Count: 2\n",
            "True: 3, Pred: 7 - Count: 2\n",
            "True: 8, Pred: 3 - Count: 2\n",
            "True: 4, Pred: 9 - Count: 2\n",
            "True: 9, Pred: 0 - Count: 2\n",
            "True: 9, Pred: 7 - Count: 2\n",
            "True: 6, Pred: 8 - Count: 2\n",
            "True: 8, Pred: 9 - Count: 1\n",
            "True: 6, Pred: 5 - Count: 1\n",
            "True: 5, Pred: 7 - Count: 1\n",
            "True: 0, Pred: 6 - Count: 1\n",
            "True: 2, Pred: 0 - Count: 1\n",
            "True: 6, Pred: 1 - Count: 1\n",
            "True: 1, Pred: 2 - Count: 1\n",
            "True: 0, Pred: 2 - Count: 1\n",
            "True: 9, Pred: 8 - Count: 1\n",
            "True: 3, Pred: 1 - Count: 1\n",
            "True: 8, Pred: 7 - Count: 1\n",
            "True: 3, Pred: 8 - Count: 1\n",
            "True: 0, Pred: 7 - Count: 1\n",
            "True: 6, Pred: 4 - Count: 1\n",
            "True: 5, Pred: 6 - Count: 1\n"
          ]
        }
      ]
    },
    {
      "cell_type": "code",
      "source": [
        "import matplotlib.pyplot as plt\n",
        "\n",
        "# Extract the pairs and counts\n",
        "labels, counts = zip(*[(f\"True: {t}, Pred: {p}\", c) for ((t, p), c) in common_misclassifications])\n",
        "\n",
        "# Plotting\n",
        "plt.figure(figsize=(10, 6))  # Adjust the figure size as needed\n",
        "plt.bar(labels, counts, color='skyblue')  # You can choose a different color\n",
        "plt.xlabel('Misclassified Pairs')\n",
        "plt.ylabel('Count')\n",
        "plt.title('Most Common Misclassifications')\n",
        "plt.xticks(rotation=45, ha='right')  # Rotate labels to fit and align properly\n",
        "plt.show()\n"
      ],
      "metadata": {
        "colab": {
          "base_uri": "https://localhost:8080/",
          "height": 634
        },
        "id": "vJcwly8tFaes",
        "outputId": "e70edf86-8276-44c1-c4e5-c2255dc9612b"
      },
      "execution_count": null,
      "outputs": [
        {
          "output_type": "display_data",
          "data": {
            "text/plain": [
              "<Figure size 1000x600 with 1 Axes>"
            ],
            "image/png": "[encoded data removed]"
          },
          "metadata": {}
        }
      ]
    },
    {
      "cell_type": "code",
      "source": [],
      "metadata": {
        "id": "cFghM8koFays"
      },
      "execution_count": null,
      "outputs": []
    },
    {
      "cell_type": "markdown",
      "source": [
        "**Transformer**"
      ],
      "metadata": {
        "id": "Zdde-UyCI6g-"
      }
    },
    {
      "cell_type": "code",
      "source": [
        "import numpy as np\n",
        "import tensorflow as tf"
      ],
      "metadata": {
        "id": "LVU5dvZZi60F"
      },
      "execution_count": null,
      "outputs": []
    },
    {
      "cell_type": "code",
      "source": [
        "class ClassToken(tf.keras.layers.Layer):\n",
        "    def __init__(self):\n",
        "        super().__init__()\n",
        "\n",
        "    def build(self, input_shape):\n",
        "        w_init = tf.random_normal_initializer()\n",
        "        self.w = tf.Variable(\n",
        "            initial_value = w_init(shape=(1, 1, input_shape[-1]), dtype=tf.float32),\n",
        "            trainable = True\n",
        "        )\n",
        "\n",
        "    def call(self, inputs):\n",
        "        batch_size = tf.shape(inputs)[0]\n",
        "        hidden_dim = self.w.shape[-1]\n",
        "\n",
        "        cls = tf.broadcast_to(self.w, [batch_size, 1, hidden_dim])\n",
        "        cls = tf.cast(cls, dtype=inputs.dtype)\n",
        "        return cls"
      ],
      "metadata": {
        "id": "mXZOEuyUQNgS"
      },
      "execution_count": null,
      "outputs": []
    },
    {
      "cell_type": "code",
      "source": [
        "def build_ViT(n,m,block_size,hidden_dim,num_layers,num_heads,key_dim,mlp_dim,dropout_rate,num_classes):\n",
        "    # n is number of rows of blocks\n",
        "    # m is number of cols of blocks\n",
        "    # block_size is number of pixels (with rgb) in each block -> 4x4 = 16\n",
        "    # hidden_dim -> size of the vector of the 0-10 processed image after first dense layer\n",
        "    # num_heads -> number of multiple head(query, key, value) self attendtion\n",
        "    # key_dim -> output dimension\n",
        "\n",
        "\n",
        "    inp = tf.keras.layers.Input(shape=(n*m,block_size))\n",
        "    # second input layer -> give the sequence to vectors\n",
        "    inp2 = tf.keras.layers.Input(shape=(n*m))\n",
        "\n",
        "    mid = tf.keras.layers.Dense(hidden_dim)(inp) # transform to vectors with different dimension\n",
        "    # the positional embeddings\n",
        "#     positions = tf.range(start=0, limit=n*m, delta=1)\n",
        "    emb = tf.keras.layers.Embedding(input_dim=n*m, output_dim=hidden_dim)(inp2) # learned positional embedding for each of the n*m possible possitions\n",
        "\n",
        "    #combine vector and its position information together\n",
        "    mid = mid + emb # for some reason, tf.keras.layers.Add causes an error, but + doesn't?\n",
        "\n",
        "    # create and append class token to beginning of all input vectors\n",
        "    token = ClassToken()(mid) # append class token to beginning of sequence\n",
        "    mid = tf.keras.layers.Concatenate(axis=1)([token, mid])\n",
        "\n",
        "    for l in range(num_layers): # how many Transformer Head layers are there?\n",
        "        ln  = tf.keras.layers.LayerNormalization()(mid) # normalize\n",
        "        mha = tf.keras.layers.MultiHeadAttention(num_heads=num_heads,key_dim=key_dim,value_dim=key_dim)(ln,ln,ln) # self attention! - same input (query, key, value) !\n",
        "        add = tf.keras.layers.Add()([mid,mha]) # add and norm\n",
        "        ln  = tf.keras.layers.LayerNormalization()(add)\n",
        "        den = tf.keras.layers.Dense(mlp_dim,activation='gelu')(ln) # maybe should be relu...who knows...\n",
        "        den = tf.keras.layers.Dropout(dropout_rate)(den) # regularization\n",
        "        den = tf.keras.layers.Dense(hidden_dim)(den) # back to the right dimensional space\n",
        "        den = tf.keras.layers.Dropout(dropout_rate)(den)\n",
        "        mid = tf.keras.layers.Add()([den,add]) # add and norm again\n",
        "    ln = tf.keras.layers.LayerNormalization()(mid)\n",
        "    fl = ln[:,0,:] # just grab the class token for each image in batch\n",
        "    clas = tf.keras.layers.Dense(num_classes,activation='softmax')(fl) # probability that the image is in each category\n",
        "    mod = tf.keras.models.Model([inp,inp2],clas)\n",
        "    mod.compile(optimizer='adam',loss='sparse_categorical_crossentropy',metrics=['accuracy'])\n",
        "    return mod"
      ],
      "metadata": {
        "id": "UE6LfJzEQWj-"
      },
      "execution_count": null,
      "outputs": []
    },
    {
      "cell_type": "code",
      "source": [
        "n=7\n",
        "m=7\n",
        "block_size = 16\n",
        "hidden_dim = 512\n",
        "num_layers = 16\n",
        "num_heads = 4\n",
        "key_dim = hidden_dim//num_heads\n",
        "mlp_dim = 256\n",
        "dropout_rate = 0.2\n",
        "num_classes = 10\n",
        "\n",
        "\n",
        "\n",
        "trans = build_ViT(n,m,block_size,hidden_dim,num_layers,num_heads,key_dim,mlp_dim,dropout_rate,num_classes)\n",
        "trans.summary()\n"
      ],
      "metadata": {
        "id": "MQiCZYeWQc66",
        "colab": {
          "base_uri": "https://localhost:8080/"
        },
        "outputId": "c5552752-4855-4922-96a2-77402e11f87c"
      },
      "execution_count": null,
      "outputs": [
        {
          "output_type": "stream",
          "name": "stdout",
          "text": [
            "Model: \"model\"\n",
            "__________________________________________________________________________________________________\n",
            " Layer (type)                Output Shape                 Param #   Connected to                  \n",
            "==================================================================================================\n",
            " input_1 (InputLayer)        [(None, 49, 16)]             0         []                            \n",
            "                                                                                                  \n",
            " input_2 (InputLayer)        [(None, 49)]                 0         []                            \n",
            "                                                                                                  \n",
            " dense (Dense)               (None, 49, 512)              8704      ['input_1[0][0]']             \n",
            "                                                                                                  \n",
            " embedding (Embedding)       (None, 49, 512)              25088     ['input_2[0][0]']             \n",
            "                                                                                                  \n",
            " tf.__operators__.add (TFOp  (None, 49, 512)              0         ['dense[0][0]',               \n",
            " Lambda)                                                             'embedding[0][0]']           \n",
            "                                                                                                  \n",
            " class_token (ClassToken)    (None, 1, 512)               512       ['tf.__operators__.add[0][0]']\n",
            "                                                                                                  \n",
            " concatenate (Concatenate)   (None, 50, 512)              0         ['class_token[0][0]',         \n",
            "                                                                     'tf.__operators__.add[0][0]']\n",
            "                                                                                                  \n",
            " layer_normalization (Layer  (None, 50, 512)              1024      ['concatenate[0][0]']         \n",
            " Normalization)                                                                                   \n",
            "                                                                                                  \n",
            " multi_head_attention (Mult  (None, 50, 512)              1050624   ['layer_normalization[0][0]', \n",
            " iHeadAttention)                                                     'layer_normalization[0][0]', \n",
            "                                                                     'layer_normalization[0][0]'] \n",
            "                                                                                                  \n",
            " add (Add)                   (None, 50, 512)              0         ['concatenate[0][0]',         \n",
            "                                                                     'multi_head_attention[0][0]']\n",
            "                                                                                                  \n",
            " layer_normalization_1 (Lay  (None, 50, 512)              1024      ['add[0][0]']                 \n",
            " erNormalization)                                                                                 \n",
            "                                                                                                  \n",
            " dense_1 (Dense)             (None, 50, 256)              131328    ['layer_normalization_1[0][0]'\n",
            "                                                                    ]                             \n",
            "                                                                                                  \n",
            " dropout (Dropout)           (None, 50, 256)              0         ['dense_1[0][0]']             \n",
            "                                                                                                  \n",
            " dense_2 (Dense)             (None, 50, 512)              131584    ['dropout[0][0]']             \n",
            "                                                                                                  \n",
            " dropout_1 (Dropout)         (None, 50, 512)              0         ['dense_2[0][0]']             \n",
            "                                                                                                  \n",
            " add_1 (Add)                 (None, 50, 512)              0         ['dropout_1[0][0]',           \n",
            "                                                                     'add[0][0]']                 \n",
            "                                                                                                  \n",
            " layer_normalization_2 (Lay  (None, 50, 512)              1024      ['add_1[0][0]']               \n",
            " erNormalization)                                                                                 \n",
            "                                                                                                  \n",
            " multi_head_attention_1 (Mu  (None, 50, 512)              1050624   ['layer_normalization_2[0][0]'\n",
            " ltiHeadAttention)                                                  , 'layer_normalization_2[0][0]\n",
            "                                                                    ',                            \n",
            "                                                                     'layer_normalization_2[0][0]'\n",
            "                                                                    ]                             \n",
            "                                                                                                  \n",
            " add_2 (Add)                 (None, 50, 512)              0         ['add_1[0][0]',               \n",
            "                                                                     'multi_head_attention_1[0][0]\n",
            "                                                                    ']                            \n",
            "                                                                                                  \n",
            " layer_normalization_3 (Lay  (None, 50, 512)              1024      ['add_2[0][0]']               \n",
            " erNormalization)                                                                                 \n",
            "                                                                                                  \n",
            " dense_3 (Dense)             (None, 50, 256)              131328    ['layer_normalization_3[0][0]'\n",
            "                                                                    ]                             \n",
            "                                                                                                  \n",
            " dropout_2 (Dropout)         (None, 50, 256)              0         ['dense_3[0][0]']             \n",
            "                                                                                                  \n",
            " dense_4 (Dense)             (None, 50, 512)              131584    ['dropout_2[0][0]']           \n",
            "                                                                                                  \n",
            " dropout_3 (Dropout)         (None, 50, 512)              0         ['dense_4[0][0]']             \n",
            "                                                                                                  \n",
            " add_3 (Add)                 (None, 50, 512)              0         ['dropout_3[0][0]',           \n",
            "                                                                     'add_2[0][0]']               \n",
            "                                                                                                  \n",
            " layer_normalization_4 (Lay  (None, 50, 512)              1024      ['add_3[0][0]']               \n",
            " erNormalization)                                                                                 \n",
            "                                                                                                  \n",
            " multi_head_attention_2 (Mu  (None, 50, 512)              1050624   ['layer_normalization_4[0][0]'\n",
            " ltiHeadAttention)                                                  , 'layer_normalization_4[0][0]\n",
            "                                                                    ',                            \n",
            "                                                                     'layer_normalization_4[0][0]'\n",
            "                                                                    ]                             \n",
            "                                                                                                  \n",
            " add_4 (Add)                 (None, 50, 512)              0         ['add_3[0][0]',               \n",
            "                                                                     'multi_head_attention_2[0][0]\n",
            "                                                                    ']                            \n",
            "                                                                                                  \n",
            " layer_normalization_5 (Lay  (None, 50, 512)              1024      ['add_4[0][0]']               \n",
            " erNormalization)                                                                                 \n",
            "                                                                                                  \n",
            " dense_5 (Dense)             (None, 50, 256)              131328    ['layer_normalization_5[0][0]'\n",
            "                                                                    ]                             \n",
            "                                                                                                  \n",
            " dropout_4 (Dropout)         (None, 50, 256)              0         ['dense_5[0][0]']             \n",
            "                                                                                                  \n",
            " dense_6 (Dense)             (None, 50, 512)              131584    ['dropout_4[0][0]']           \n",
            "                                                                                                  \n",
            " dropout_5 (Dropout)         (None, 50, 512)              0         ['dense_6[0][0]']             \n",
            "                                                                                                  \n",
            " add_5 (Add)                 (None, 50, 512)              0         ['dropout_5[0][0]',           \n",
            "                                                                     'add_4[0][0]']               \n",
            "                                                                                                  \n",
            " layer_normalization_6 (Lay  (None, 50, 512)              1024      ['add_5[0][0]']               \n",
            " erNormalization)                                                                                 \n",
            "                                                                                                  \n",
            " multi_head_attention_3 (Mu  (None, 50, 512)              1050624   ['layer_normalization_6[0][0]'\n",
            " ltiHeadAttention)                                                  , 'layer_normalization_6[0][0]\n",
            "                                                                    ',                            \n",
            "                                                                     'layer_normalization_6[0][0]'\n",
            "                                                                    ]                             \n",
            "                                                                                                  \n",
            " add_6 (Add)                 (None, 50, 512)              0         ['add_5[0][0]',               \n",
            "                                                                     'multi_head_attention_3[0][0]\n",
            "                                                                    ']                            \n",
            "                                                                                                  \n",
            " layer_normalization_7 (Lay  (None, 50, 512)              1024      ['add_6[0][0]']               \n",
            " erNormalization)                                                                                 \n",
            "                                                                                                  \n",
            " dense_7 (Dense)             (None, 50, 256)              131328    ['layer_normalization_7[0][0]'\n",
            "                                                                    ]                             \n",
            "                                                                                                  \n",
            " dropout_6 (Dropout)         (None, 50, 256)              0         ['dense_7[0][0]']             \n",
            "                                                                                                  \n",
            " dense_8 (Dense)             (None, 50, 512)              131584    ['dropout_6[0][0]']           \n",
            "                                                                                                  \n",
            " dropout_7 (Dropout)         (None, 50, 512)              0         ['dense_8[0][0]']             \n",
            "                                                                                                  \n",
            " add_7 (Add)                 (None, 50, 512)              0         ['dropout_7[0][0]',           \n",
            "                                                                     'add_6[0][0]']               \n",
            "                                                                                                  \n",
            " layer_normalization_8 (Lay  (None, 50, 512)              1024      ['add_7[0][0]']               \n",
            " erNormalization)                                                                                 \n",
            "                                                                                                  \n",
            " multi_head_attention_4 (Mu  (None, 50, 512)              1050624   ['layer_normalization_8[0][0]'\n",
            " ltiHeadAttention)                                                  , 'layer_normalization_8[0][0]\n",
            "                                                                    ',                            \n",
            "                                                                     'layer_normalization_8[0][0]'\n",
            "                                                                    ]                             \n",
            "                                                                                                  \n",
            " add_8 (Add)                 (None, 50, 512)              0         ['add_7[0][0]',               \n",
            "                                                                     'multi_head_attention_4[0][0]\n",
            "                                                                    ']                            \n",
            "                                                                                                  \n",
            " layer_normalization_9 (Lay  (None, 50, 512)              1024      ['add_8[0][0]']               \n",
            " erNormalization)                                                                                 \n",
            "                                                                                                  \n",
            " dense_9 (Dense)             (None, 50, 256)              131328    ['layer_normalization_9[0][0]'\n",
            "                                                                    ]                             \n",
            "                                                                                                  \n",
            " dropout_8 (Dropout)         (None, 50, 256)              0         ['dense_9[0][0]']             \n",
            "                                                                                                  \n",
            " dense_10 (Dense)            (None, 50, 512)              131584    ['dropout_8[0][0]']           \n",
            "                                                                                                  \n",
            " dropout_9 (Dropout)         (None, 50, 512)              0         ['dense_10[0][0]']            \n",
            "                                                                                                  \n",
            " add_9 (Add)                 (None, 50, 512)              0         ['dropout_9[0][0]',           \n",
            "                                                                     'add_8[0][0]']               \n",
            "                                                                                                  \n",
            " layer_normalization_10 (La  (None, 50, 512)              1024      ['add_9[0][0]']               \n",
            " yerNormalization)                                                                                \n",
            "                                                                                                  \n",
            " multi_head_attention_5 (Mu  (None, 50, 512)              1050624   ['layer_normalization_10[0][0]\n",
            " ltiHeadAttention)                                                  ',                            \n",
            "                                                                     'layer_normalization_10[0][0]\n",
            "                                                                    ',                            \n",
            "                                                                     'layer_normalization_10[0][0]\n",
            "                                                                    ']                            \n",
            "                                                                                                  \n",
            " add_10 (Add)                (None, 50, 512)              0         ['add_9[0][0]',               \n",
            "                                                                     'multi_head_attention_5[0][0]\n",
            "                                                                    ']                            \n",
            "                                                                                                  \n",
            " layer_normalization_11 (La  (None, 50, 512)              1024      ['add_10[0][0]']              \n",
            " yerNormalization)                                                                                \n",
            "                                                                                                  \n",
            " dense_11 (Dense)            (None, 50, 256)              131328    ['layer_normalization_11[0][0]\n",
            "                                                                    ']                            \n",
            "                                                                                                  \n",
            " dropout_10 (Dropout)        (None, 50, 256)              0         ['dense_11[0][0]']            \n",
            "                                                                                                  \n",
            " dense_12 (Dense)            (None, 50, 512)              131584    ['dropout_10[0][0]']          \n",
            "                                                                                                  \n",
            " dropout_11 (Dropout)        (None, 50, 512)              0         ['dense_12[0][0]']            \n",
            "                                                                                                  \n",
            " add_11 (Add)                (None, 50, 512)              0         ['dropout_11[0][0]',          \n",
            "                                                                     'add_10[0][0]']              \n",
            "                                                                                                  \n",
            " layer_normalization_12 (La  (None, 50, 512)              1024      ['add_11[0][0]']              \n",
            " yerNormalization)                                                                                \n",
            "                                                                                                  \n",
            " multi_head_attention_6 (Mu  (None, 50, 512)              1050624   ['layer_normalization_12[0][0]\n",
            " ltiHeadAttention)                                                  ',                            \n",
            "                                                                     'layer_normalization_12[0][0]\n",
            "                                                                    ',                            \n",
            "                                                                     'layer_normalization_12[0][0]\n",
            "                                                                    ']                            \n",
            "                                                                                                  \n",
            " add_12 (Add)                (None, 50, 512)              0         ['add_11[0][0]',              \n",
            "                                                                     'multi_head_attention_6[0][0]\n",
            "                                                                    ']                            \n",
            "                                                                                                  \n",
            " layer_normalization_13 (La  (None, 50, 512)              1024      ['add_12[0][0]']              \n",
            " yerNormalization)                                                                                \n",
            "                                                                                                  \n",
            " dense_13 (Dense)            (None, 50, 256)              131328    ['layer_normalization_13[0][0]\n",
            "                                                                    ']                            \n",
            "                                                                                                  \n",
            " dropout_12 (Dropout)        (None, 50, 256)              0         ['dense_13[0][0]']            \n",
            "                                                                                                  \n",
            " dense_14 (Dense)            (None, 50, 512)              131584    ['dropout_12[0][0]']          \n",
            "                                                                                                  \n",
            " dropout_13 (Dropout)        (None, 50, 512)              0         ['dense_14[0][0]']            \n",
            "                                                                                                  \n",
            " add_13 (Add)                (None, 50, 512)              0         ['dropout_13[0][0]',          \n",
            "                                                                     'add_12[0][0]']              \n",
            "                                                                                                  \n",
            " layer_normalization_14 (La  (None, 50, 512)              1024      ['add_13[0][0]']              \n",
            " yerNormalization)                                                                                \n",
            "                                                                                                  \n",
            " multi_head_attention_7 (Mu  (None, 50, 512)              1050624   ['layer_normalization_14[0][0]\n",
            " ltiHeadAttention)                                                  ',                            \n",
            "                                                                     'layer_normalization_14[0][0]\n",
            "                                                                    ',                            \n",
            "                                                                     'layer_normalization_14[0][0]\n",
            "                                                                    ']                            \n",
            "                                                                                                  \n",
            " add_14 (Add)                (None, 50, 512)              0         ['add_13[0][0]',              \n",
            "                                                                     'multi_head_attention_7[0][0]\n",
            "                                                                    ']                            \n",
            "                                                                                                  \n",
            " layer_normalization_15 (La  (None, 50, 512)              1024      ['add_14[0][0]']              \n",
            " yerNormalization)                                                                                \n",
            "                                                                                                  \n",
            " dense_15 (Dense)            (None, 50, 256)              131328    ['layer_normalization_15[0][0]\n",
            "                                                                    ']                            \n",
            "                                                                                                  \n",
            " dropout_14 (Dropout)        (None, 50, 256)              0         ['dense_15[0][0]']            \n",
            "                                                                                                  \n",
            " dense_16 (Dense)            (None, 50, 512)              131584    ['dropout_14[0][0]']          \n",
            "                                                                                                  \n",
            " dropout_15 (Dropout)        (None, 50, 512)              0         ['dense_16[0][0]']            \n",
            "                                                                                                  \n",
            " add_15 (Add)                (None, 50, 512)              0         ['dropout_15[0][0]',          \n",
            "                                                                     'add_14[0][0]']              \n",
            "                                                                                                  \n",
            " layer_normalization_16 (La  (None, 50, 512)              1024      ['add_15[0][0]']              \n",
            " yerNormalization)                                                                                \n",
            "                                                                                                  \n",
            " multi_head_attention_8 (Mu  (None, 50, 512)              1050624   ['layer_normalization_16[0][0]\n",
            " ltiHeadAttention)                                                  ',                            \n",
            "                                                                     'layer_normalization_16[0][0]\n",
            "                                                                    ',                            \n",
            "                                                                     'layer_normalization_16[0][0]\n",
            "                                                                    ']                            \n",
            "                                                                                                  \n",
            " add_16 (Add)                (None, 50, 512)              0         ['add_15[0][0]',              \n",
            "                                                                     'multi_head_attention_8[0][0]\n",
            "                                                                    ']                            \n",
            "                                                                                                  \n",
            " layer_normalization_17 (La  (None, 50, 512)              1024      ['add_16[0][0]']              \n",
            " yerNormalization)                                                                                \n",
            "                                                                                                  \n",
            " dense_17 (Dense)            (None, 50, 256)              131328    ['layer_normalization_17[0][0]\n",
            "                                                                    ']                            \n",
            "                                                                                                  \n",
            " dropout_16 (Dropout)        (None, 50, 256)              0         ['dense_17[0][0]']            \n",
            "                                                                                                  \n",
            " dense_18 (Dense)            (None, 50, 512)              131584    ['dropout_16[0][0]']          \n",
            "                                                                                                  \n",
            " dropout_17 (Dropout)        (None, 50, 512)              0         ['dense_18[0][0]']            \n",
            "                                                                                                  \n",
            " add_17 (Add)                (None, 50, 512)              0         ['dropout_17[0][0]',          \n",
            "                                                                     'add_16[0][0]']              \n",
            "                                                                                                  \n",
            " layer_normalization_18 (La  (None, 50, 512)              1024      ['add_17[0][0]']              \n",
            " yerNormalization)                                                                                \n",
            "                                                                                                  \n",
            " multi_head_attention_9 (Mu  (None, 50, 512)              1050624   ['layer_normalization_18[0][0]\n",
            " ltiHeadAttention)                                                  ',                            \n",
            "                                                                     'layer_normalization_18[0][0]\n",
            "                                                                    ',                            \n",
            "                                                                     'layer_normalization_18[0][0]\n",
            "                                                                    ']                            \n",
            "                                                                                                  \n",
            " add_18 (Add)                (None, 50, 512)              0         ['add_17[0][0]',              \n",
            "                                                                     'multi_head_attention_9[0][0]\n",
            "                                                                    ']                            \n",
            "                                                                                                  \n",
            " layer_normalization_19 (La  (None, 50, 512)              1024      ['add_18[0][0]']              \n",
            " yerNormalization)                                                                                \n",
            "                                                                                                  \n",
            " dense_19 (Dense)            (None, 50, 256)              131328    ['layer_normalization_19[0][0]\n",
            "                                                                    ']                            \n",
            "                                                                                                  \n",
            " dropout_18 (Dropout)        (None, 50, 256)              0         ['dense_19[0][0]']            \n",
            "                                                                                                  \n",
            " dense_20 (Dense)            (None, 50, 512)              131584    ['dropout_18[0][0]']          \n",
            "                                                                                                  \n",
            " dropout_19 (Dropout)        (None, 50, 512)              0         ['dense_20[0][0]']            \n",
            "                                                                                                  \n",
            " add_19 (Add)                (None, 50, 512)              0         ['dropout_19[0][0]',          \n",
            "                                                                     'add_18[0][0]']              \n",
            "                                                                                                  \n",
            " layer_normalization_20 (La  (None, 50, 512)              1024      ['add_19[0][0]']              \n",
            " yerNormalization)                                                                                \n",
            "                                                                                                  \n",
            " multi_head_attention_10 (M  (None, 50, 512)              1050624   ['layer_normalization_20[0][0]\n",
            " ultiHeadAttention)                                                 ',                            \n",
            "                                                                     'layer_normalization_20[0][0]\n",
            "                                                                    ',                            \n",
            "                                                                     'layer_normalization_20[0][0]\n",
            "                                                                    ']                            \n",
            "                                                                                                  \n",
            " add_20 (Add)                (None, 50, 512)              0         ['add_19[0][0]',              \n",
            "                                                                     'multi_head_attention_10[0][0\n",
            "                                                                    ]']                           \n",
            "                                                                                                  \n",
            " layer_normalization_21 (La  (None, 50, 512)              1024      ['add_20[0][0]']              \n",
            " yerNormalization)                                                                                \n",
            "                                                                                                  \n",
            " dense_21 (Dense)            (None, 50, 256)              131328    ['layer_normalization_21[0][0]\n",
            "                                                                    ']                            \n",
            "                                                                                                  \n",
            " dropout_20 (Dropout)        (None, 50, 256)              0         ['dense_21[0][0]']            \n",
            "                                                                                                  \n",
            " dense_22 (Dense)            (None, 50, 512)              131584    ['dropout_20[0][0]']          \n",
            "                                                                                                  \n",
            " dropout_21 (Dropout)        (None, 50, 512)              0         ['dense_22[0][0]']            \n",
            "                                                                                                  \n",
            " add_21 (Add)                (None, 50, 512)              0         ['dropout_21[0][0]',          \n",
            "                                                                     'add_20[0][0]']              \n",
            "                                                                                                  \n",
            " layer_normalization_22 (La  (None, 50, 512)              1024      ['add_21[0][0]']              \n",
            " yerNormalization)                                                                                \n",
            "                                                                                                  \n",
            " multi_head_attention_11 (M  (None, 50, 512)              1050624   ['layer_normalization_22[0][0]\n",
            " ultiHeadAttention)                                                 ',                            \n",
            "                                                                     'layer_normalization_22[0][0]\n",
            "                                                                    ',                            \n",
            "                                                                     'layer_normalization_22[0][0]\n",
            "                                                                    ']                            \n",
            "                                                                                                  \n",
            " add_22 (Add)                (None, 50, 512)              0         ['add_21[0][0]',              \n",
            "                                                                     'multi_head_attention_11[0][0\n",
            "                                                                    ]']                           \n",
            "                                                                                                  \n",
            " layer_normalization_23 (La  (None, 50, 512)              1024      ['add_22[0][0]']              \n",
            " yerNormalization)                                                                                \n",
            "                                                                                                  \n",
            " dense_23 (Dense)            (None, 50, 256)              131328    ['layer_normalization_23[0][0]\n",
            "                                                                    ']                            \n",
            "                                                                                                  \n",
            " dropout_22 (Dropout)        (None, 50, 256)              0         ['dense_23[0][0]']            \n",
            "                                                                                                  \n",
            " dense_24 (Dense)            (None, 50, 512)              131584    ['dropout_22[0][0]']          \n",
            "                                                                                                  \n",
            " dropout_23 (Dropout)        (None, 50, 512)              0         ['dense_24[0][0]']            \n",
            "                                                                                                  \n",
            " add_23 (Add)                (None, 50, 512)              0         ['dropout_23[0][0]',          \n",
            "                                                                     'add_22[0][0]']              \n",
            "                                                                                                  \n",
            " layer_normalization_24 (La  (None, 50, 512)              1024      ['add_23[0][0]']              \n",
            " yerNormalization)                                                                                \n",
            "                                                                                                  \n",
            " multi_head_attention_12 (M  (None, 50, 512)              1050624   ['layer_normalization_24[0][0]\n",
            " ultiHeadAttention)                                                 ',                            \n",
            "                                                                     'layer_normalization_24[0][0]\n",
            "                                                                    ',                            \n",
            "                                                                     'layer_normalization_24[0][0]\n",
            "                                                                    ']                            \n",
            "                                                                                                  \n",
            " add_24 (Add)                (None, 50, 512)              0         ['add_23[0][0]',              \n",
            "                                                                     'multi_head_attention_12[0][0\n",
            "                                                                    ]']                           \n",
            "                                                                                                  \n",
            " layer_normalization_25 (La  (None, 50, 512)              1024      ['add_24[0][0]']              \n",
            " yerNormalization)                                                                                \n",
            "                                                                                                  \n",
            " dense_25 (Dense)            (None, 50, 256)              131328    ['layer_normalization_25[0][0]\n",
            "                                                                    ']                            \n",
            "                                                                                                  \n",
            " dropout_24 (Dropout)        (None, 50, 256)              0         ['dense_25[0][0]']            \n",
            "                                                                                                  \n",
            " dense_26 (Dense)            (None, 50, 512)              131584    ['dropout_24[0][0]']          \n",
            "                                                                                                  \n",
            " dropout_25 (Dropout)        (None, 50, 512)              0         ['dense_26[0][0]']            \n",
            "                                                                                                  \n",
            " add_25 (Add)                (None, 50, 512)              0         ['dropout_25[0][0]',          \n",
            "                                                                     'add_24[0][0]']              \n",
            "                                                                                                  \n",
            " layer_normalization_26 (La  (None, 50, 512)              1024      ['add_25[0][0]']              \n",
            " yerNormalization)                                                                                \n",
            "                                                                                                  \n",
            " multi_head_attention_13 (M  (None, 50, 512)              1050624   ['layer_normalization_26[0][0]\n",
            " ultiHeadAttention)                                                 ',                            \n",
            "                                                                     'layer_normalization_26[0][0]\n",
            "                                                                    ',                            \n",
            "                                                                     'layer_normalization_26[0][0]\n",
            "                                                                    ']                            \n",
            "                                                                                                  \n",
            " add_26 (Add)                (None, 50, 512)              0         ['add_25[0][0]',              \n",
            "                                                                     'multi_head_attention_13[0][0\n",
            "                                                                    ]']                           \n",
            "                                                                                                  \n",
            " layer_normalization_27 (La  (None, 50, 512)              1024      ['add_26[0][0]']              \n",
            " yerNormalization)                                                                                \n",
            "                                                                                                  \n",
            " dense_27 (Dense)            (None, 50, 256)              131328    ['layer_normalization_27[0][0]\n",
            "                                                                    ']                            \n",
            "                                                                                                  \n",
            " dropout_26 (Dropout)        (None, 50, 256)              0         ['dense_27[0][0]']            \n",
            "                                                                                                  \n",
            " dense_28 (Dense)            (None, 50, 512)              131584    ['dropout_26[0][0]']          \n",
            "                                                                                                  \n",
            " dropout_27 (Dropout)        (None, 50, 512)              0         ['dense_28[0][0]']            \n",
            "                                                                                                  \n",
            " add_27 (Add)                (None, 50, 512)              0         ['dropout_27[0][0]',          \n",
            "                                                                     'add_26[0][0]']              \n",
            "                                                                                                  \n",
            " layer_normalization_28 (La  (None, 50, 512)              1024      ['add_27[0][0]']              \n",
            " yerNormalization)                                                                                \n",
            "                                                                                                  \n",
            " multi_head_attention_14 (M  (None, 50, 512)              1050624   ['layer_normalization_28[0][0]\n",
            " ultiHeadAttention)                                                 ',                            \n",
            "                                                                     'layer_normalization_28[0][0]\n",
            "                                                                    ',                            \n",
            "                                                                     'layer_normalization_28[0][0]\n",
            "                                                                    ']                            \n",
            "                                                                                                  \n",
            " add_28 (Add)                (None, 50, 512)              0         ['add_27[0][0]',              \n",
            "                                                                     'multi_head_attention_14[0][0\n",
            "                                                                    ]']                           \n",
            "                                                                                                  \n",
            " layer_normalization_29 (La  (None, 50, 512)              1024      ['add_28[0][0]']              \n",
            " yerNormalization)                                                                                \n",
            "                                                                                                  \n",
            " dense_29 (Dense)            (None, 50, 256)              131328    ['layer_normalization_29[0][0]\n",
            "                                                                    ']                            \n",
            "                                                                                                  \n",
            " dropout_28 (Dropout)        (None, 50, 256)              0         ['dense_29[0][0]']            \n",
            "                                                                                                  \n",
            " dense_30 (Dense)            (None, 50, 512)              131584    ['dropout_28[0][0]']          \n",
            "                                                                                                  \n",
            " dropout_29 (Dropout)        (None, 50, 512)              0         ['dense_30[0][0]']            \n",
            "                                                                                                  \n",
            " add_29 (Add)                (None, 50, 512)              0         ['dropout_29[0][0]',          \n",
            "                                                                     'add_28[0][0]']              \n",
            "                                                                                                  \n",
            " layer_normalization_30 (La  (None, 50, 512)              1024      ['add_29[0][0]']              \n",
            " yerNormalization)                                                                                \n",
            "                                                                                                  \n",
            " multi_head_attention_15 (M  (None, 50, 512)              1050624   ['layer_normalization_30[0][0]\n",
            " ultiHeadAttention)                                                 ',                            \n",
            "                                                                     'layer_normalization_30[0][0]\n",
            "                                                                    ',                            \n",
            "                                                                     'layer_normalization_30[0][0]\n",
            "                                                                    ']                            \n",
            "                                                                                                  \n",
            " add_30 (Add)                (None, 50, 512)              0         ['add_29[0][0]',              \n",
            "                                                                     'multi_head_attention_15[0][0\n",
            "                                                                    ]']                           \n",
            "                                                                                                  \n",
            " layer_normalization_31 (La  (None, 50, 512)              1024      ['add_30[0][0]']              \n",
            " yerNormalization)                                                                                \n",
            "                                                                                                  \n",
            " dense_31 (Dense)            (None, 50, 256)              131328    ['layer_normalization_31[0][0]\n",
            "                                                                    ']                            \n",
            "                                                                                                  \n",
            " dropout_30 (Dropout)        (None, 50, 256)              0         ['dense_31[0][0]']            \n",
            "                                                                                                  \n",
            " dense_32 (Dense)            (None, 50, 512)              131584    ['dropout_30[0][0]']          \n",
            "                                                                                                  \n",
            " dropout_31 (Dropout)        (None, 50, 512)              0         ['dense_32[0][0]']            \n",
            "                                                                                                  \n",
            " add_31 (Add)                (None, 50, 512)              0         ['dropout_31[0][0]',          \n",
            "                                                                     'add_30[0][0]']              \n",
            "                                                                                                  \n",
            " layer_normalization_32 (La  (None, 50, 512)              1024      ['add_31[0][0]']              \n",
            " yerNormalization)                                                                                \n",
            "                                                                                                  \n",
            " tf.__operators__.getitem (  (None, 512)                  0         ['layer_normalization_32[0][0]\n",
            " SlicingOpLambda)                                                   ']                            \n",
            "                                                                                                  \n",
            " dense_33 (Dense)            (None, 10)                   5130      ['tf.__operators__.getitem[0][\n",
            "                                                                    0]']                          \n",
            "                                                                                                  \n",
            "==================================================================================================\n",
            "Total params: 21089802 (80.45 MB)\n",
            "Trainable params: 21089802 (80.45 MB)\n",
            "Non-trainable params: 0 (0.00 Byte)\n",
            "__________________________________________________________________________________________________\n"
          ]
        }
      ]
    },
    {
      "cell_type": "code",
      "source": [
        "# param_grid = {\n",
        "#     'hidden_dim': [32, 64, 128],\n",
        "#     'num_layers': [8, 16],\n",
        "#     'num_heads': [4, 8],\n",
        "#     'key_dim': [16, 32],\n",
        "#     'mlp_dim': [64, 128, 256],\n",
        "#     'dropout_rate': [0.1, 0.2]\n",
        "# }\n"
      ],
      "metadata": {
        "id": "dJluTwcnazCB"
      },
      "execution_count": null,
      "outputs": []
    },
    {
      "cell_type": "code",
      "source": [
        "# from sklearn.model_selection import GridSearchCV\n",
        "# grid = GridSearchCV(estimator=model, param_grid=param_grid, n_jobs=-1, cv=3)"
      ],
      "metadata": {
        "id": "TZYYICACa36x"
      },
      "execution_count": null,
      "outputs": []
    },
    {
      "cell_type": "code",
      "source": [
        "mnist = tf.keras.datasets.mnist\n",
        "\n",
        "(x_train, y_train),(x_test, y_test) = mnist.load_data()\n",
        "x_train, x_test = x_train / 255.0, x_test / 255.0\n",
        "\n",
        "ndata_train = x_train.shape[0]\n",
        "ndata_test = x_test.shape[0]"
      ],
      "metadata": {
        "id": "LcCTEdWrQm9j",
        "colab": {
          "base_uri": "https://localhost:8080/"
        },
        "outputId": "0c377fad-b26c-4281-b309-b735d444108c"
      },
      "execution_count": null,
      "outputs": [
        {
          "output_type": "stream",
          "name": "stdout",
          "text": [
            "Downloading data from https://storage.googleapis.com/tensorflow/tf-keras-datasets/mnist.npz\n",
            "11490434/11490434 [==============================] - 0s 0us/step\n"
          ]
        }
      ]
    },
    {
      "cell_type": "code",
      "source": [
        "x_train.shape"
      ],
      "metadata": {
        "colab": {
          "base_uri": "https://localhost:8080/"
        },
        "id": "Vl19kPYPQscM",
        "outputId": "bfb3acca-1098-418b-e9c6-cafad9847742"
      },
      "execution_count": null,
      "outputs": [
        {
          "output_type": "execute_result",
          "data": {
            "text/plain": [
              "(60000, 28, 28)"
            ]
          },
          "metadata": {},
          "execution_count": 6
        }
      ]
    },
    {
      "cell_type": "code",
      "source": [
        "x_train_ravel = np.zeros((ndata_train,n*m,block_size))\n",
        "for img in range(ndata_train):\n",
        "    ind = 0\n",
        "    for row in range(n):\n",
        "        for col in range(m):\n",
        "            x_train_ravel[img,ind,:] = x_train[img,(row*4):((row+1)*4),(col*4):((col+1)*4)].ravel() # turn 4x4 to 16 numbers\n",
        "            ind += 1\n",
        "\n",
        "x_test_ravel = np.zeros((ndata_test,n*m,block_size))\n",
        "for img in range(ndata_test):\n",
        "    ind = 0\n",
        "    for row in range(n):\n",
        "        for col in range(m):\n",
        "            x_test_ravel[img,ind,:] = x_test[img,(row*4):((row+1)*4),(col*4):((col+1)*4)].ravel()\n",
        "            ind += 1"
      ],
      "metadata": {
        "id": "bP_jKK8UQvpq"
      },
      "execution_count": null,
      "outputs": []
    },
    {
      "cell_type": "code",
      "source": [
        "pos_feed_train = np.array([list(range(n*m))]*ndata_train)\n",
        "pos_feed_test = np.array([list(range(n*m))]*ndata_test)"
      ],
      "metadata": {
        "id": "xqiI8TpXQzUk"
      },
      "execution_count": null,
      "outputs": []
    },
    {
      "cell_type": "code",
      "source": [
        "# grid_result = grid.fit([x_train_ravel, pos_feed_train], y_train)"
      ],
      "metadata": {
        "id": "pFp6PoMlgTQU"
      },
      "execution_count": null,
      "outputs": []
    },
    {
      "cell_type": "code",
      "source": [
        "# best_model = grid_result.best_estimator_.model\n",
        "# best_model.evaluate([x_test_ravel, pos_feed_test], y_test)\n"
      ],
      "metadata": {
        "id": "zvBkqMKzhOgI"
      },
      "execution_count": null,
      "outputs": []
    },
    {
      "cell_type": "code",
      "source": [
        "trans.fit([x_train_ravel,pos_feed_train],y_train,epochs=80,batch_size = 400,validation_split=0.2)"
      ],
      "metadata": {
        "colab": {
          "base_uri": "https://localhost:8080/",
          "height": 980
        },
        "id": "9gqz7IIDQ2ze",
        "outputId": "b75a61e4-85da-4ba5-d4a2-bc98f72d4dba"
      },
      "execution_count": null,
      "outputs": [
        {
          "output_type": "stream",
          "name": "stdout",
          "text": [
            "Epoch 1/80\n",
            "120/120 [==============================] - 173s 1s/step - loss: 1.8993 - accuracy: 0.3046 - val_loss: 1.0578 - val_accuracy: 0.6395\n",
            "Epoch 2/80\n",
            "120/120 [==============================] - 148s 1s/step - loss: 0.8134 - accuracy: 0.7281 - val_loss: 0.6599 - val_accuracy: 0.7866\n",
            "Epoch 3/80\n",
            "120/120 [==============================] - 147s 1s/step - loss: 0.6161 - accuracy: 0.7996 - val_loss: 0.5093 - val_accuracy: 0.8381\n",
            "Epoch 4/80\n",
            "120/120 [==============================] - 147s 1s/step - loss: 0.7156 - accuracy: 0.7623 - val_loss: 0.5692 - val_accuracy: 0.8107\n",
            "Epoch 5/80\n",
            "120/120 [==============================] - 146s 1s/step - loss: 0.7486 - accuracy: 0.7482 - val_loss: 0.7702 - val_accuracy: 0.7435\n",
            "Epoch 6/80\n",
            "120/120 [==============================] - 155s 1s/step - loss: 0.7953 - accuracy: 0.7395 - val_loss: 0.7032 - val_accuracy: 0.7674\n",
            "Epoch 7/80\n",
            "120/120 [==============================] - 146s 1s/step - loss: 0.6513 - accuracy: 0.7895 - val_loss: 0.6100 - val_accuracy: 0.8027\n",
            "Epoch 8/80\n",
            "120/120 [==============================] - 154s 1s/step - loss: 0.9274 - accuracy: 0.6880 - val_loss: 0.8525 - val_accuracy: 0.7098\n",
            "Epoch 9/80\n",
            "120/120 [==============================] - 147s 1s/step - loss: 0.8108 - accuracy: 0.7264 - val_loss: 0.6579 - val_accuracy: 0.7799\n",
            "Epoch 10/80\n",
            "120/120 [==============================] - 146s 1s/step - loss: 0.6389 - accuracy: 0.7934 - val_loss: 0.5429 - val_accuracy: 0.8226\n",
            "Epoch 11/80\n",
            "120/120 [==============================] - 154s 1s/step - loss: 0.5939 - accuracy: 0.8087 - val_loss: 0.6504 - val_accuracy: 0.7917\n",
            "Epoch 12/80\n",
            "120/120 [==============================] - 145s 1s/step - loss: 0.7195 - accuracy: 0.7632 - val_loss: 0.6870 - val_accuracy: 0.7722\n",
            "Epoch 13/80\n",
            "120/120 [==============================] - 153s 1s/step - loss: 0.7508 - accuracy: 0.7557 - val_loss: 0.7061 - val_accuracy: 0.7615\n",
            "Epoch 14/80\n",
            "120/120 [==============================] - 145s 1s/step - loss: 0.7660 - accuracy: 0.7460 - val_loss: 0.6786 - val_accuracy: 0.7787\n",
            "Epoch 15/80\n",
            "120/120 [==============================] - 145s 1s/step - loss: 0.7712 - accuracy: 0.7489 - val_loss: 1.2630 - val_accuracy: 0.5511\n",
            "Epoch 16/80\n",
            "120/120 [==============================] - 145s 1s/step - loss: 0.9749 - accuracy: 0.6754 - val_loss: 0.9056 - val_accuracy: 0.6995\n",
            "Epoch 17/80\n",
            "120/120 [==============================] - 145s 1s/step - loss: 0.7700 - accuracy: 0.7496 - val_loss: 0.6324 - val_accuracy: 0.7924\n",
            "Epoch 18/80\n",
            "120/120 [==============================] - 145s 1s/step - loss: 0.7327 - accuracy: 0.7647 - val_loss: 0.6664 - val_accuracy: 0.7818\n",
            "Epoch 19/80\n",
            " 95/120 [======================>.......] - ETA: 27s - loss: 0.6683 - accuracy: 0.7836"
          ]
        },
        {
          "output_type": "error",
          "ename": "KeyboardInterrupt",
          "evalue": "",
          "traceback": [
            "\u001b[0;31m---------------------------------------------------------------------------\u001b[0m",
            "\u001b[0;31mKeyboardInterrupt\u001b[0m                         Traceback (most recent call last)",
            "\u001b[0;32m<ipython-input-10-33a9d5d03d2d>\u001b[0m in \u001b[0;36m<cell line: 1>\u001b[0;34m()\u001b[0m\n\u001b[0;32m----> 1\u001b[0;31m \u001b[0mtrans\u001b[0m\u001b[0;34m.\u001b[0m\u001b[0mfit\u001b[0m\u001b[0;34m(\u001b[0m\u001b[0;34m[\u001b[0m\u001b[0mx_train_ravel\u001b[0m\u001b[0;34m,\u001b[0m\u001b[0mpos_feed_train\u001b[0m\u001b[0;34m]\u001b[0m\u001b[0;34m,\u001b[0m\u001b[0my_train\u001b[0m\u001b[0;34m,\u001b[0m\u001b[0mepochs\u001b[0m\u001b[0;34m=\u001b[0m\u001b[0;36m80\u001b[0m\u001b[0;34m,\u001b[0m\u001b[0mbatch_size\u001b[0m \u001b[0;34m=\u001b[0m \u001b[0;36m400\u001b[0m\u001b[0;34m,\u001b[0m\u001b[0mvalidation_split\u001b[0m\u001b[0;34m=\u001b[0m\u001b[0;36m0.2\u001b[0m\u001b[0;34m)\u001b[0m\u001b[0;34m\u001b[0m\u001b[0;34m\u001b[0m\u001b[0m\n\u001b[0m",
            "\u001b[0;32m/usr/local/lib/python3.10/dist-packages/keras/src/utils/traceback_utils.py\u001b[0m in \u001b[0;36merror_handler\u001b[0;34m(*args, **kwargs)\u001b[0m\n\u001b[1;32m     63\u001b[0m         \u001b[0mfiltered_tb\u001b[0m \u001b[0;34m=\u001b[0m \u001b[0;32mNone\u001b[0m\u001b[0;34m\u001b[0m\u001b[0;34m\u001b[0m\u001b[0m\n\u001b[1;32m     64\u001b[0m         \u001b[0;32mtry\u001b[0m\u001b[0;34m:\u001b[0m\u001b[0;34m\u001b[0m\u001b[0;34m\u001b[0m\u001b[0m\n\u001b[0;32m---> 65\u001b[0;31m             \u001b[0;32mreturn\u001b[0m \u001b[0mfn\u001b[0m\u001b[0;34m(\u001b[0m\u001b[0;34m*\u001b[0m\u001b[0margs\u001b[0m\u001b[0;34m,\u001b[0m \u001b[0;34m**\u001b[0m\u001b[0mkwargs\u001b[0m\u001b[0;34m)\u001b[0m\u001b[0;34m\u001b[0m\u001b[0;34m\u001b[0m\u001b[0m\n\u001b[0m\u001b[1;32m     66\u001b[0m         \u001b[0;32mexcept\u001b[0m \u001b[0mException\u001b[0m \u001b[0;32mas\u001b[0m \u001b[0me\u001b[0m\u001b[0;34m:\u001b[0m\u001b[0;34m\u001b[0m\u001b[0;34m\u001b[0m\u001b[0m\n\u001b[1;32m     67\u001b[0m             \u001b[0mfiltered_tb\u001b[0m \u001b[0;34m=\u001b[0m \u001b[0m_process_traceback_frames\u001b[0m\u001b[0;34m(\u001b[0m\u001b[0me\u001b[0m\u001b[0;34m.\u001b[0m\u001b[0m__traceback__\u001b[0m\u001b[0;34m)\u001b[0m\u001b[0;34m\u001b[0m\u001b[0;34m\u001b[0m\u001b[0m\n",
            "\u001b[0;32m/usr/local/lib/python3.10/dist-packages/keras/src/engine/training.py\u001b[0m in \u001b[0;36mfit\u001b[0;34m(self, x, y, batch_size, epochs, verbose, callbacks, validation_split, validation_data, shuffle, class_weight, sample_weight, initial_epoch, steps_per_epoch, validation_steps, validation_batch_size, validation_freq, max_queue_size, workers, use_multiprocessing)\u001b[0m\n\u001b[1;32m   1805\u001b[0m                         ):\n\u001b[1;32m   1806\u001b[0m                             \u001b[0mcallbacks\u001b[0m\u001b[0;34m.\u001b[0m\u001b[0mon_train_batch_begin\u001b[0m\u001b[0;34m(\u001b[0m\u001b[0mstep\u001b[0m\u001b[0;34m)\u001b[0m\u001b[0;34m\u001b[0m\u001b[0;34m\u001b[0m\u001b[0m\n\u001b[0;32m-> 1807\u001b[0;31m                             \u001b[0mtmp_logs\u001b[0m \u001b[0;34m=\u001b[0m \u001b[0mself\u001b[0m\u001b[0;34m.\u001b[0m\u001b[0mtrain_function\u001b[0m\u001b[0;34m(\u001b[0m\u001b[0miterator\u001b[0m\u001b[0;34m)\u001b[0m\u001b[0;34m\u001b[0m\u001b[0;34m\u001b[0m\u001b[0m\n\u001b[0m\u001b[1;32m   1808\u001b[0m                             \u001b[0;32mif\u001b[0m \u001b[0mdata_handler\u001b[0m\u001b[0;34m.\u001b[0m\u001b[0mshould_sync\u001b[0m\u001b[0;34m:\u001b[0m\u001b[0;34m\u001b[0m\u001b[0;34m\u001b[0m\u001b[0m\n\u001b[1;32m   1809\u001b[0m                                 \u001b[0mcontext\u001b[0m\u001b[0;34m.\u001b[0m\u001b[0masync_wait\u001b[0m\u001b[0;34m(\u001b[0m\u001b[0;34m)\u001b[0m\u001b[0;34m\u001b[0m\u001b[0;34m\u001b[0m\u001b[0m\n",
            "\u001b[0;32m/usr/local/lib/python3.10/dist-packages/tensorflow/python/util/traceback_utils.py\u001b[0m in \u001b[0;36merror_handler\u001b[0;34m(*args, **kwargs)\u001b[0m\n\u001b[1;32m    148\u001b[0m     \u001b[0mfiltered_tb\u001b[0m \u001b[0;34m=\u001b[0m \u001b[0;32mNone\u001b[0m\u001b[0;34m\u001b[0m\u001b[0;34m\u001b[0m\u001b[0m\n\u001b[1;32m    149\u001b[0m     \u001b[0;32mtry\u001b[0m\u001b[0;34m:\u001b[0m\u001b[0;34m\u001b[0m\u001b[0;34m\u001b[0m\u001b[0m\n\u001b[0;32m--> 150\u001b[0;31m       \u001b[0;32mreturn\u001b[0m \u001b[0mfn\u001b[0m\u001b[0;34m(\u001b[0m\u001b[0;34m*\u001b[0m\u001b[0margs\u001b[0m\u001b[0;34m,\u001b[0m \u001b[0;34m**\u001b[0m\u001b[0mkwargs\u001b[0m\u001b[0;34m)\u001b[0m\u001b[0;34m\u001b[0m\u001b[0;34m\u001b[0m\u001b[0m\n\u001b[0m\u001b[1;32m    151\u001b[0m     \u001b[0;32mexcept\u001b[0m \u001b[0mException\u001b[0m \u001b[0;32mas\u001b[0m \u001b[0me\u001b[0m\u001b[0;34m:\u001b[0m\u001b[0;34m\u001b[0m\u001b[0;34m\u001b[0m\u001b[0m\n\u001b[1;32m    152\u001b[0m       \u001b[0mfiltered_tb\u001b[0m \u001b[0;34m=\u001b[0m \u001b[0m_process_traceback_frames\u001b[0m\u001b[0;34m(\u001b[0m\u001b[0me\u001b[0m\u001b[0;34m.\u001b[0m\u001b[0m__traceback__\u001b[0m\u001b[0;34m)\u001b[0m\u001b[0;34m\u001b[0m\u001b[0;34m\u001b[0m\u001b[0m\n",
            "\u001b[0;32m/usr/local/lib/python3.10/dist-packages/tensorflow/python/eager/polymorphic_function/polymorphic_function.py\u001b[0m in \u001b[0;36m__call__\u001b[0;34m(self, *args, **kwds)\u001b[0m\n\u001b[1;32m    830\u001b[0m \u001b[0;34m\u001b[0m\u001b[0m\n\u001b[1;32m    831\u001b[0m       \u001b[0;32mwith\u001b[0m \u001b[0mOptionalXlaContext\u001b[0m\u001b[0;34m(\u001b[0m\u001b[0mself\u001b[0m\u001b[0;34m.\u001b[0m\u001b[0m_jit_compile\u001b[0m\u001b[0;34m)\u001b[0m\u001b[0;34m:\u001b[0m\u001b[0;34m\u001b[0m\u001b[0;34m\u001b[0m\u001b[0m\n\u001b[0;32m--> 832\u001b[0;31m         \u001b[0mresult\u001b[0m \u001b[0;34m=\u001b[0m \u001b[0mself\u001b[0m\u001b[0;34m.\u001b[0m\u001b[0m_call\u001b[0m\u001b[0;34m(\u001b[0m\u001b[0;34m*\u001b[0m\u001b[0margs\u001b[0m\u001b[0;34m,\u001b[0m \u001b[0;34m**\u001b[0m\u001b[0mkwds\u001b[0m\u001b[0;34m)\u001b[0m\u001b[0;34m\u001b[0m\u001b[0;34m\u001b[0m\u001b[0m\n\u001b[0m\u001b[1;32m    833\u001b[0m \u001b[0;34m\u001b[0m\u001b[0m\n\u001b[1;32m    834\u001b[0m       \u001b[0mnew_tracing_count\u001b[0m \u001b[0;34m=\u001b[0m \u001b[0mself\u001b[0m\u001b[0;34m.\u001b[0m\u001b[0mexperimental_get_tracing_count\u001b[0m\u001b[0;34m(\u001b[0m\u001b[0;34m)\u001b[0m\u001b[0;34m\u001b[0m\u001b[0;34m\u001b[0m\u001b[0m\n",
            "\u001b[0;32m/usr/local/lib/python3.10/dist-packages/tensorflow/python/eager/polymorphic_function/polymorphic_function.py\u001b[0m in \u001b[0;36m_call\u001b[0;34m(self, *args, **kwds)\u001b[0m\n\u001b[1;32m    866\u001b[0m       \u001b[0;31m# In this case we have created variables on the first call, so we run the\u001b[0m\u001b[0;34m\u001b[0m\u001b[0;34m\u001b[0m\u001b[0m\n\u001b[1;32m    867\u001b[0m       \u001b[0;31m# defunned version which is guaranteed to never create variables.\u001b[0m\u001b[0;34m\u001b[0m\u001b[0;34m\u001b[0m\u001b[0m\n\u001b[0;32m--> 868\u001b[0;31m       return tracing_compilation.call_function(\n\u001b[0m\u001b[1;32m    869\u001b[0m           \u001b[0margs\u001b[0m\u001b[0;34m,\u001b[0m \u001b[0mkwds\u001b[0m\u001b[0;34m,\u001b[0m \u001b[0mself\u001b[0m\u001b[0;34m.\u001b[0m\u001b[0m_no_variable_creation_config\u001b[0m\u001b[0;34m\u001b[0m\u001b[0;34m\u001b[0m\u001b[0m\n\u001b[1;32m    870\u001b[0m       )\n",
            "\u001b[0;32m/usr/local/lib/python3.10/dist-packages/tensorflow/python/eager/polymorphic_function/tracing_compilation.py\u001b[0m in \u001b[0;36mcall_function\u001b[0;34m(args, kwargs, tracing_options)\u001b[0m\n\u001b[1;32m    137\u001b[0m   \u001b[0mbound_args\u001b[0m \u001b[0;34m=\u001b[0m \u001b[0mfunction\u001b[0m\u001b[0;34m.\u001b[0m\u001b[0mfunction_type\u001b[0m\u001b[0;34m.\u001b[0m\u001b[0mbind\u001b[0m\u001b[0;34m(\u001b[0m\u001b[0;34m*\u001b[0m\u001b[0margs\u001b[0m\u001b[0;34m,\u001b[0m \u001b[0;34m**\u001b[0m\u001b[0mkwargs\u001b[0m\u001b[0;34m)\u001b[0m\u001b[0;34m\u001b[0m\u001b[0;34m\u001b[0m\u001b[0m\n\u001b[1;32m    138\u001b[0m   \u001b[0mflat_inputs\u001b[0m \u001b[0;34m=\u001b[0m \u001b[0mfunction\u001b[0m\u001b[0;34m.\u001b[0m\u001b[0mfunction_type\u001b[0m\u001b[0;34m.\u001b[0m\u001b[0munpack_inputs\u001b[0m\u001b[0;34m(\u001b[0m\u001b[0mbound_args\u001b[0m\u001b[0;34m)\u001b[0m\u001b[0;34m\u001b[0m\u001b[0;34m\u001b[0m\u001b[0m\n\u001b[0;32m--> 139\u001b[0;31m   return function._call_flat(  # pylint: disable=protected-access\n\u001b[0m\u001b[1;32m    140\u001b[0m       \u001b[0mflat_inputs\u001b[0m\u001b[0;34m,\u001b[0m \u001b[0mcaptured_inputs\u001b[0m\u001b[0;34m=\u001b[0m\u001b[0mfunction\u001b[0m\u001b[0;34m.\u001b[0m\u001b[0mcaptured_inputs\u001b[0m\u001b[0;34m\u001b[0m\u001b[0;34m\u001b[0m\u001b[0m\n\u001b[1;32m    141\u001b[0m   )\n",
            "\u001b[0;32m/usr/local/lib/python3.10/dist-packages/tensorflow/python/eager/polymorphic_function/concrete_function.py\u001b[0m in \u001b[0;36m_call_flat\u001b[0;34m(self, tensor_inputs, captured_inputs)\u001b[0m\n\u001b[1;32m   1321\u001b[0m         and executing_eagerly):\n\u001b[1;32m   1322\u001b[0m       \u001b[0;31m# No tape is watching; skip to running the function.\u001b[0m\u001b[0;34m\u001b[0m\u001b[0;34m\u001b[0m\u001b[0m\n\u001b[0;32m-> 1323\u001b[0;31m       \u001b[0;32mreturn\u001b[0m \u001b[0mself\u001b[0m\u001b[0;34m.\u001b[0m\u001b[0m_inference_function\u001b[0m\u001b[0;34m.\u001b[0m\u001b[0mcall_preflattened\u001b[0m\u001b[0;34m(\u001b[0m\u001b[0margs\u001b[0m\u001b[0;34m)\u001b[0m\u001b[0;34m\u001b[0m\u001b[0;34m\u001b[0m\u001b[0m\n\u001b[0m\u001b[1;32m   1324\u001b[0m     forward_backward = self._select_forward_and_backward_functions(\n\u001b[1;32m   1325\u001b[0m         \u001b[0margs\u001b[0m\u001b[0;34m,\u001b[0m\u001b[0;34m\u001b[0m\u001b[0;34m\u001b[0m\u001b[0m\n",
            "\u001b[0;32m/usr/local/lib/python3.10/dist-packages/tensorflow/python/eager/polymorphic_function/atomic_function.py\u001b[0m in \u001b[0;36mcall_preflattened\u001b[0;34m(self, args)\u001b[0m\n\u001b[1;32m    214\u001b[0m   \u001b[0;32mdef\u001b[0m \u001b[0mcall_preflattened\u001b[0m\u001b[0;34m(\u001b[0m\u001b[0mself\u001b[0m\u001b[0;34m,\u001b[0m \u001b[0margs\u001b[0m\u001b[0;34m:\u001b[0m \u001b[0mSequence\u001b[0m\u001b[0;34m[\u001b[0m\u001b[0mcore\u001b[0m\u001b[0;34m.\u001b[0m\u001b[0mTensor\u001b[0m\u001b[0;34m]\u001b[0m\u001b[0;34m)\u001b[0m \u001b[0;34m->\u001b[0m \u001b[0mAny\u001b[0m\u001b[0;34m:\u001b[0m\u001b[0;34m\u001b[0m\u001b[0;34m\u001b[0m\u001b[0m\n\u001b[1;32m    215\u001b[0m     \u001b[0;34m\"\"\"Calls with flattened tensor inputs and returns the structured output.\"\"\"\u001b[0m\u001b[0;34m\u001b[0m\u001b[0;34m\u001b[0m\u001b[0m\n\u001b[0;32m--> 216\u001b[0;31m     \u001b[0mflat_outputs\u001b[0m \u001b[0;34m=\u001b[0m \u001b[0mself\u001b[0m\u001b[0;34m.\u001b[0m\u001b[0mcall_flat\u001b[0m\u001b[0;34m(\u001b[0m\u001b[0;34m*\u001b[0m\u001b[0margs\u001b[0m\u001b[0;34m)\u001b[0m\u001b[0;34m\u001b[0m\u001b[0;34m\u001b[0m\u001b[0m\n\u001b[0m\u001b[1;32m    217\u001b[0m     \u001b[0;32mreturn\u001b[0m \u001b[0mself\u001b[0m\u001b[0;34m.\u001b[0m\u001b[0mfunction_type\u001b[0m\u001b[0;34m.\u001b[0m\u001b[0mpack_output\u001b[0m\u001b[0;34m(\u001b[0m\u001b[0mflat_outputs\u001b[0m\u001b[0;34m)\u001b[0m\u001b[0;34m\u001b[0m\u001b[0;34m\u001b[0m\u001b[0m\n\u001b[1;32m    218\u001b[0m \u001b[0;34m\u001b[0m\u001b[0m\n",
            "\u001b[0;32m/usr/local/lib/python3.10/dist-packages/tensorflow/python/eager/polymorphic_function/atomic_function.py\u001b[0m in \u001b[0;36mcall_flat\u001b[0;34m(self, *args)\u001b[0m\n\u001b[1;32m    249\u001b[0m         \u001b[0;32mwith\u001b[0m \u001b[0mrecord\u001b[0m\u001b[0;34m.\u001b[0m\u001b[0mstop_recording\u001b[0m\u001b[0;34m(\u001b[0m\u001b[0;34m)\u001b[0m\u001b[0;34m:\u001b[0m\u001b[0;34m\u001b[0m\u001b[0;34m\u001b[0m\u001b[0m\n\u001b[1;32m    250\u001b[0m           \u001b[0;32mif\u001b[0m \u001b[0mself\u001b[0m\u001b[0;34m.\u001b[0m\u001b[0m_bound_context\u001b[0m\u001b[0;34m.\u001b[0m\u001b[0mexecuting_eagerly\u001b[0m\u001b[0;34m(\u001b[0m\u001b[0;34m)\u001b[0m\u001b[0;34m:\u001b[0m\u001b[0;34m\u001b[0m\u001b[0;34m\u001b[0m\u001b[0m\n\u001b[0;32m--> 251\u001b[0;31m             outputs = self._bound_context.call_function(\n\u001b[0m\u001b[1;32m    252\u001b[0m                 \u001b[0mself\u001b[0m\u001b[0;34m.\u001b[0m\u001b[0mname\u001b[0m\u001b[0;34m,\u001b[0m\u001b[0;34m\u001b[0m\u001b[0;34m\u001b[0m\u001b[0m\n\u001b[1;32m    253\u001b[0m                 \u001b[0mlist\u001b[0m\u001b[0;34m(\u001b[0m\u001b[0margs\u001b[0m\u001b[0;34m)\u001b[0m\u001b[0;34m,\u001b[0m\u001b[0;34m\u001b[0m\u001b[0;34m\u001b[0m\u001b[0m\n",
            "\u001b[0;32m/usr/local/lib/python3.10/dist-packages/tensorflow/python/eager/context.py\u001b[0m in \u001b[0;36mcall_function\u001b[0;34m(self, name, tensor_inputs, num_outputs)\u001b[0m\n\u001b[1;32m   1484\u001b[0m     \u001b[0mcancellation_context\u001b[0m \u001b[0;34m=\u001b[0m \u001b[0mcancellation\u001b[0m\u001b[0;34m.\u001b[0m\u001b[0mcontext\u001b[0m\u001b[0;34m(\u001b[0m\u001b[0;34m)\u001b[0m\u001b[0;34m\u001b[0m\u001b[0;34m\u001b[0m\u001b[0m\n\u001b[1;32m   1485\u001b[0m     \u001b[0;32mif\u001b[0m \u001b[0mcancellation_context\u001b[0m \u001b[0;32mis\u001b[0m \u001b[0;32mNone\u001b[0m\u001b[0;34m:\u001b[0m\u001b[0;34m\u001b[0m\u001b[0;34m\u001b[0m\u001b[0m\n\u001b[0;32m-> 1486\u001b[0;31m       outputs = execute.execute(\n\u001b[0m\u001b[1;32m   1487\u001b[0m           \u001b[0mname\u001b[0m\u001b[0;34m.\u001b[0m\u001b[0mdecode\u001b[0m\u001b[0;34m(\u001b[0m\u001b[0;34m\"utf-8\"\u001b[0m\u001b[0;34m)\u001b[0m\u001b[0;34m,\u001b[0m\u001b[0;34m\u001b[0m\u001b[0;34m\u001b[0m\u001b[0m\n\u001b[1;32m   1488\u001b[0m           \u001b[0mnum_outputs\u001b[0m\u001b[0;34m=\u001b[0m\u001b[0mnum_outputs\u001b[0m\u001b[0;34m,\u001b[0m\u001b[0;34m\u001b[0m\u001b[0;34m\u001b[0m\u001b[0m\n",
            "\u001b[0;32m/usr/local/lib/python3.10/dist-packages/tensorflow/python/eager/execute.py\u001b[0m in \u001b[0;36mquick_execute\u001b[0;34m(op_name, num_outputs, inputs, attrs, ctx, name)\u001b[0m\n\u001b[1;32m     51\u001b[0m   \u001b[0;32mtry\u001b[0m\u001b[0;34m:\u001b[0m\u001b[0;34m\u001b[0m\u001b[0;34m\u001b[0m\u001b[0m\n\u001b[1;32m     52\u001b[0m     \u001b[0mctx\u001b[0m\u001b[0;34m.\u001b[0m\u001b[0mensure_initialized\u001b[0m\u001b[0;34m(\u001b[0m\u001b[0;34m)\u001b[0m\u001b[0;34m\u001b[0m\u001b[0;34m\u001b[0m\u001b[0m\n\u001b[0;32m---> 53\u001b[0;31m     tensors = pywrap_tfe.TFE_Py_Execute(ctx._handle, device_name, op_name,\n\u001b[0m\u001b[1;32m     54\u001b[0m                                         inputs, attrs, num_outputs)\n\u001b[1;32m     55\u001b[0m   \u001b[0;32mexcept\u001b[0m \u001b[0mcore\u001b[0m\u001b[0;34m.\u001b[0m\u001b[0m_NotOkStatusException\u001b[0m \u001b[0;32mas\u001b[0m \u001b[0me\u001b[0m\u001b[0;34m:\u001b[0m\u001b[0;34m\u001b[0m\u001b[0;34m\u001b[0m\u001b[0m\n",
            "\u001b[0;31mKeyboardInterrupt\u001b[0m: "
          ]
        }
      ]
    },
    {
      "cell_type": "code",
      "source": [
        "out = trans.evaluate([x_test_ravel,pos_feed_test],y_test)"
      ],
      "metadata": {
        "id": "nThOxn8UQ_aA",
        "colab": {
          "base_uri": "https://localhost:8080/"
        },
        "outputId": "dc2d99aa-1739-46fc-8d75-38e3b91f6854"
      },
      "execution_count": null,
      "outputs": [
        {
          "output_type": "stream",
          "name": "stdout",
          "text": [
            "313/313 [==============================] - 13s 41ms/step - loss: 0.0958 - accuracy: 0.9723\n"
          ]
        }
      ]
    },
    {
      "cell_type": "code",
      "source": [
        "out[1]"
      ],
      "metadata": {
        "id": "BABJ6_oIRHJn",
        "colab": {
          "base_uri": "https://localhost:8080/",
          "height": 175
        },
        "outputId": "317ae936-d00a-4501-cb47-2069843aea35"
      },
      "execution_count": null,
      "outputs": [
        {
          "output_type": "error",
          "ename": "NameError",
          "evalue": "name 'out' is not defined",
          "traceback": [
            "\u001b[0;31m---------------------------------------------------------------------------\u001b[0m",
            "\u001b[0;31mNameError\u001b[0m                                 Traceback (most recent call last)",
            "\u001b[0;32m<ipython-input-1-bc2a673b3295>\u001b[0m in \u001b[0;36m<cell line: 1>\u001b[0;34m()\u001b[0m\n\u001b[0;32m----> 1\u001b[0;31m \u001b[0mout\u001b[0m\u001b[0;34m[\u001b[0m\u001b[0;36m1\u001b[0m\u001b[0;34m]\u001b[0m\u001b[0;34m\u001b[0m\u001b[0;34m\u001b[0m\u001b[0m\n\u001b[0m",
            "\u001b[0;31mNameError\u001b[0m: name 'out' is not defined"
          ]
        }
      ]
    },
    {
      "cell_type": "code",
      "source": [],
      "metadata": {
        "id": "D9Zcz1aVAo3I"
      },
      "execution_count": null,
      "outputs": []
    },
    {
      "cell_type": "code",
      "source": [],
      "metadata": {
        "id": "ukescw_HKU5G"
      },
      "execution_count": null,
      "outputs": []
    },
    {
      "cell_type": "code",
      "source": [],
      "metadata": {
        "id": "-dVa3iwLKVG6"
      },
      "execution_count": null,
      "outputs": []
    },
    {
      "cell_type": "markdown",
      "source": [
        "**CODE FROM ANMOL**"
      ],
      "metadata": {
        "id": "qxpu0a-1ArlD"
      }
    },
    {
      "cell_type": "code",
      "source": [
        "#CNN model implementation\n",
        "import tensorflow as tf\n",
        "import numpy as np\n",
        "import matplotlib.pyplot as plt\n",
        "from tensorflow.keras import layers, models\n",
        "%matplotlib inline\n",
        "\n",
        "mnist = tf.keras.datasets.mnist\n",
        "\n",
        "(x_train, y_train),(x_test, y_test) = mnist.load_data()\n",
        "x_train, x_test = x_train / 255.0, x_test / 255.0\n",
        "ndata_train = x_train.shape[0]\n",
        "ndata_test = x_test.shape[0]\n",
        "\n",
        "x_train = x_train.reshape((ndata_train,28,28,1))\n",
        "x_test = x_test.reshape((ndata_test,28,28,1))\n",
        "xshape = x_train.shape[1:4]\n",
        "\n",
        "# model = models.Sequential([\n",
        "#   layers.Conv2D(32, (3, 3), activation='relu', input_shape=(28, 28, 1)),\n",
        "#   layers.MaxPooling2D((2, 2)),\n",
        "#   layers.Conv2D(64, (3, 3), activation='relu'),\n",
        "#   layers.MaxPooling2D((2, 2)),\n",
        "#   layers.Conv2D(64, (3, 3), activation='relu'),\n",
        "#   layers.Flatten(),\n",
        "#   layers.Dense(64, activation='relu'),\n",
        "#   layers.Dense(64, activation='relu'),\n",
        "#   layers.Dropout(0.2),\n",
        "#   layers.Dense(10, activation='softmax')\n",
        "# ])\n",
        "\n",
        "\n",
        "\n",
        "\n",
        "model = models.Sequential([\n",
        "    layers.Conv2D(64, (3, 3), activation='relu', input_shape=(28, 28, 1)),\n",
        "    layers.BatchNormalization(),\n",
        "    layers.Conv2D(64, (3, 3), activation='relu'),\n",
        "    layers.BatchNormalization(),\n",
        "    layers.MaxPooling2D((2, 2)),\n",
        "    layers.Dropout(0.25),\n",
        "\n",
        "    layers.Conv2D(128, (3, 3), activation='relu'),\n",
        "    layers.BatchNormalization(),\n",
        "    layers.Dropout(0.25),\n",
        "\n",
        "    layers.Flatten(),\n",
        "    layers.Dense(128, activation='relu'),\n",
        "    layers.BatchNormalization(),\n",
        "    layers.Dropout(0.5),\n",
        "    layers.Dense(10, activation='softmax')\n",
        "])\n",
        "\n",
        "# Compile the model\n",
        "model.compile(optimizer='adam',\n",
        "              loss='categorical_crossentropy',\n",
        "              metrics=['accuracy'])\n",
        "\n",
        "# Compile the model\n",
        "model.compile(optimizer='adam',\n",
        "              loss='sparse_categorical_crossentropy',\n",
        "              metrics=['accuracy'])\n",
        "\n",
        "model.fit(x_train,y_train,epochs=10,validation_split=0.2,batch_size=200)\n"
      ],
      "metadata": {
        "id": "rsCHre04Ao5r"
      },
      "execution_count": null,
      "outputs": []
    },
    {
      "cell_type": "code",
      "source": [
        "#Using the CNN model on entire dataset\n",
        "Model.fit(x_train,y_train,epochs=12,validation_split=0,batch_size=200)\n",
        "\n",
        "# predicted probabilities for test data\n",
        "y_test_prob = Model.predict(x_test)\n",
        "\n",
        "# final prediction\n",
        "y_test_pred = y_test_prob.argmax(axis=1)\n",
        "\n",
        "from sklearn.metrics import accuracy_score\n",
        "print('Accuracy on Test Dataset', round(100*accuracy_score(y_test, y_test_pred), 2), '%')\n"
      ],
      "metadata": {
        "id": "TOKe_fvWAo8j"
      },
      "execution_count": null,
      "outputs": []
    },
    {
      "cell_type": "code",
      "source": [
        "#Miscalssification\n",
        "import numpy as np\n",
        "import matplotlib.pyplot as plt\n",
        "\n",
        "# Assuming you have the test dataset loaded as x_test and y_test\n",
        "# And your model's predictions are stored in y_test_pred\n",
        "\n",
        "# Find the indices of the test set where predictions don't match the true labels\n",
        "misclassified_indices = np.where(y_test_pred != y_test)[0]\n",
        "\n",
        "\n",
        "\n",
        "# Plot a few of the misclassified numbers\n",
        "plt.figure(figsize=(15, 8))  # Increase the figure size to fit 20 images\n",
        "for i, misclassified_index in enumerate(misclassified_indices[:20]):  # Change 10 to 20 here\n",
        "    plt.subplot(4, 5, i + 1)  # Change the subplot grid to 4 rows by 5 columns\n",
        "    plt.imshow(np.squeeze(x_test[misclassified_index]), cmap='gray')\n",
        "    plt.title(f\"True: {y_test[misclassified_index]}, Pred: {y_test_pred[misclassified_index]}\")\n",
        "    plt.axis('off')\n",
        "\n",
        "plt.tight_layout()\n",
        "plt.show()\n",
        "len(misclassified_indices) #misclassified images"
      ],
      "metadata": {
        "id": "sBmNI_odAo_K"
      },
      "execution_count": null,
      "outputs": []
    },
    {
      "cell_type": "code",
      "source": [
        "from collections import Counter\n",
        "\n",
        "# Pair true and predicted labels for misclassified digits\n",
        "misclassified_pairs = list(zip(y_test[misclassified_indices], y_test_pred[misclassified_indices]))\n",
        "\n",
        "# Count the most common pairs\n",
        "common_misclassifications = Counter(misclassified_pairs).most_common()\n",
        "\n",
        "print(\"Most common misclassifications:\")\n",
        "for (true_label, pred_label), count in common_misclassifications:\n",
        "    print(f\"True: {true_label}, Pred: {pred_label} - Count: {count}\")"
      ],
      "metadata": {
        "id": "Dg95oX-RApFI"
      },
      "execution_count": null,
      "outputs": []
    },
    {
      "cell_type": "code",
      "source": [],
      "metadata": {
        "id": "bH5WLSlWApH_"
      },
      "execution_count": null,
      "outputs": []
    },
    {
      "cell_type": "code",
      "source": [],
      "metadata": {
        "id": "hx_2l5-lApKV"
      },
      "execution_count": null,
      "outputs": []
    },
    {
      "cell_type": "markdown",
      "source": [
        "**Anvil code**"
      ],
      "metadata": {
        "id": "ji6CUdms_YKn"
      }
    },
    {
      "cell_type": "code",
      "source": [
        "# pip install anvil-uplink"
      ],
      "metadata": {
        "id": "VN_LYBMeApNN"
      },
      "execution_count": null,
      "outputs": []
    },
    {
      "cell_type": "code",
      "source": [
        "import anvil.server\n",
        "import anvil.media\n",
        "anvil.server.connect(\"server_P2HL6ACTFNLZQ4ZH4F2HDE6B-2PHMPKTANTLBSTAI\")"
      ],
      "metadata": {
        "id": "1QV4UtwyApS9"
      },
      "execution_count": null,
      "outputs": []
    },
    {
      "cell_type": "code",
      "source": [
        "#function for proj 1\n",
        "\n",
        "import numpy as np\n",
        "import pandas as pd\n",
        "# from PIL import Image\n",
        "# from io import BytesIO\n",
        "import tensorflow as tf\n",
        "from tensorflow.keras.models import load_model\n",
        "\n",
        "import tensorflow as tf\n",
        "import pandas as pd\n",
        "import numpy as np\n",
        "import matplotlib.pyplot as plt\n",
        "from tensorflow.keras.datasets import mnist\n",
        "from tensorflow.keras.models import Sequential\n",
        "from tensorflow.keras.layers import Conv2D, MaxPooling2D, Flatten, Dense\n",
        "\n",
        "class ClassToken(tf.keras.layers.Layer):\n",
        "    def __init__(self):\n",
        "        super().__init__()\n",
        "\n",
        "    def build(self, input_shape):\n",
        "        w_init = tf.random_normal_initializer()\n",
        "        self.w = tf.Variable(\n",
        "            initial_value = w_init(shape=(1, 1, input_shape[-1]), dtype=tf.float32),\n",
        "            trainable = True\n",
        "        )\n",
        "\n",
        "    def call(self, inputs):\n",
        "        batch_size = tf.shape(inputs)[0]\n",
        "        hidden_dim = self.w.shape[-1]\n",
        "\n",
        "        cls = tf.broadcast_to(self.w, [batch_size, 1, hidden_dim])\n",
        "        cls = tf.cast(cls, dtype=inputs.dtype)\n",
        "        return cls\n",
        "\n",
        "\n",
        "custom_obj={'ClassToken' : ClassToken}\n",
        "\n",
        "#load\n",
        "trans=load_model('model_x.h5', custom_objects=custom_obj) # transformer\n",
        "\n",
        "#cnn model\n",
        "# Define the CNN model\n",
        "model = Sequential()\n",
        "model.add(Conv2D(filters=32, kernel_size=(3, 3), activation='relu', input_shape=(28, 28, 1)))\n",
        "model.add(MaxPooling2D(pool_size=(2, 2)))\n",
        "model.add(Conv2D(filters=64, kernel_size=(3, 3), activation='relu'))\n",
        "model.add(MaxPooling2D(pool_size=(2, 2)))\n",
        "model.add(Flatten())\n",
        "model.add(Dense(100, activation='relu'))\n",
        "model.add(Dense(10, activation='softmax'))\n",
        "\n",
        "# Compile the model\n",
        "model.compile(loss='categorical_crossentropy', optimizer='adam', metrics=['accuracy'])\n",
        "\n",
        "cnn = tf.keras.models.load_model('my_mnist_model.h5')\n",
        "\n",
        "\n",
        "\n",
        "df=pd.read_csv('output.csv', header=None)\n",
        "# file= file.get_bytes()\n",
        "# df=pd.read_csv(BytesIO(file), header=None)\n",
        "np_df=np.array(df)\n",
        "\n",
        "def proj_fxn(np_df):\n",
        "  if np_df.shape != (28,28):\n",
        "    return \"CSV file must be (28,28) Please try again\",\"\"\n",
        "\n",
        "\n",
        "  maximum= np.max(np_df)\n",
        "  if maximum >1:\n",
        "    np_df= np_df / 255\n",
        "\n",
        "  x_train_ravel = np.zeros((1,7*7,16))\n",
        "  ind = 0\n",
        "  for row in range(7):\n",
        "      for col in range(7):\n",
        "          x_train_ravel[0,ind,:] = np_df[(row*4):((row+1)*4),(col*4):((col+1)*4)].ravel()\n",
        "          ind += 1\n",
        "\n",
        "  pos_feed_train=np.array([list(range(7*7))])\n",
        "\n",
        "  out=trans.predict([x_train_ravel, pos_feed_train])\n",
        "\n",
        "  pred_class= np.argmax(out, axis=1) # transformer label\n",
        "\n",
        "  # cnn prediction\n",
        "  prob = cnn.predict(np_df.reshape(1,28,28,1))\n",
        "  result_cnn = np.argmax(prob) # cnn label\n",
        "\n",
        "  return str(pred_class)[1], str(result_cnn)\n",
        "\n",
        "\n"
      ],
      "metadata": {
        "id": "meotj4iaApVR"
      },
      "execution_count": null,
      "outputs": []
    },
    {
      "cell_type": "code",
      "source": [
        "proj_fxn(np_df)"
      ],
      "metadata": {
        "id": "uyZ67WHJApYJ"
      },
      "execution_count": null,
      "outputs": []
    },
    {
      "cell_type": "code",
      "source": [
        "def convert_array(path):\n",
        "  df = pd.read_csv(path, header=None)\n",
        "  np_df=np.array(df)\n",
        "  return np_df"
      ],
      "metadata": {
        "id": "Zy5IsCiMApax"
      },
      "execution_count": null,
      "outputs": []
    },
    {
      "cell_type": "code",
      "source": [
        "np_df.shape"
      ],
      "metadata": {
        "id": "HXT-gpi0Apdn"
      },
      "execution_count": null,
      "outputs": []
    },
    {
      "cell_type": "code",
      "source": [
        "def save_image(image_array):\n",
        "    plt.imshow(image_array.squeeze(), cmap='gray')\n",
        "    plt.axis('off')\n",
        "    plt.savefig(\"foo.png\")"
      ],
      "metadata": {
        "id": "0-WrjtsrApf9"
      },
      "execution_count": null,
      "outputs": []
    },
    {
      "cell_type": "code",
      "source": [
        "# @anvil.server.callable\n",
        "\n",
        "# def convert(file):\n",
        "#   file= file.get_bytes()\n",
        "#   df=pd.read_csv(BytesIO(file), header=None)\n",
        "#   np_df=np.array(df)\n",
        "\n",
        "#   image= Image/fromarray(np_df)\n",
        "#   image2= image.convert(\"L\")\n",
        "#   bytess=BytesIO()\n",
        "#   image2.save(bytess, format='JPEG')\n",
        "\n",
        "#   return anvil.BlobMedia('image/jpeg', bytess.getvalue(), name='Uplaod_Image')"
      ],
      "metadata": {
        "id": "lNZ-KdjsApik"
      },
      "execution_count": null,
      "outputs": []
    },
    {
      "cell_type": "code",
      "source": [
        "def get_result(image_array):\n",
        "    prob = loaded_model.predict(image_array)\n",
        "    result = np.argmax(prob)\n",
        "    return result"
      ],
      "metadata": {
        "id": "rFEPtwSQApk6"
      },
      "execution_count": null,
      "outputs": []
    },
    {
      "cell_type": "code",
      "source": [
        "@anvil.server.callable\n",
        "def get_png_image(file_name):\n",
        "    with open(file_name, 'rb') as f:\n",
        "        return anvil.BlobMedia(\"image/png\", f.read())"
      ],
      "metadata": {
        "id": "7FF7RoCgApng"
      },
      "execution_count": null,
      "outputs": []
    },
    {
      "cell_type": "code",
      "source": [
        "@anvil.server.callable\n",
        "def model_run(path):\n",
        "    with anvil.media.TempFile(path) as filename:\n",
        "        np_df = convert_array(filename)\n",
        "        save_image(np_df)\n",
        "        result1,result2 = proj_fxn(np_df)\n",
        "        return ('Predicted Number is: {}'.format(result1)), ('Predicted Number is: {}'.format(result2))"
      ],
      "metadata": {
        "id": "VEg0SbdxApqH"
      },
      "execution_count": null,
      "outputs": []
    },
    {
      "cell_type": "code",
      "source": [],
      "metadata": {
        "id": "O65AaqNsApr8"
      },
      "execution_count": null,
      "outputs": []
    }
  ]
}