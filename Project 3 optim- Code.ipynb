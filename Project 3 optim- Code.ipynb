{
 "cells": [
  {
   "cell_type": "code",
   "execution_count": 2,
   "id": "053c8b14",
   "metadata": {},
   "outputs": [
    {
     "name": "stderr",
     "output_type": "stream",
     "text": [
      "\n",
      "[notice] A new release of pip available: 22.3.1 -> 23.3.1\n",
      "[notice] To update, run: python.exe -m pip install --upgrade pip\n"
     ]
    },
    {
     "name": "stdout",
     "output_type": "stream",
     "text": [
      "Collecting scikit-learn\n",
      "  Downloading scikit_learn-1.3.2-cp311-cp311-win_amd64.whl (9.2 MB)\n",
      "     ---------------------------------------- 9.2/9.2 MB 6.2 MB/s eta 0:00:00\n",
      "Requirement already satisfied: numpy<2.0,>=1.17.3 in c:\\users\\samsung\\appdata\\local\\programs\\python\\python311\\lib\\site-packages (from scikit-learn) (1.25.2)\n",
      "Requirement already satisfied: scipy>=1.5.0 in c:\\users\\samsung\\appdata\\local\\programs\\python\\python311\\lib\\site-packages (from scikit-learn) (1.11.2)\n",
      "Collecting joblib>=1.1.1\n",
      "  Using cached joblib-1.3.2-py3-none-any.whl (302 kB)\n",
      "Collecting threadpoolctl>=2.0.0\n",
      "  Using cached threadpoolctl-3.2.0-py3-none-any.whl (15 kB)\n",
      "Installing collected packages: threadpoolctl, joblib, scikit-learn\n",
      "Successfully installed joblib-1.3.2 scikit-learn-1.3.2 threadpoolctl-3.2.0\n"
     ]
    }
   ],
   "source": [
    "import pandas as pd\n",
    "import numpy as np\n",
    "import gurobipy as gp\n",
    "from gurobipy import GRB\n",
    "import matplotlib.pyplot as plt\n",
    "!pip install scikit-learn\n",
    "from sklearn.linear_model import Lasso\n",
    "from sklearn.model_selection import KFold\n",
    "from sklearn.metrics import mean_squared_error\n",
    "from sklearn.metrics import r2_score\n",
    "from sklearn import linear_model"
   ]
  },
  {
   "cell_type": "markdown",
   "id": "ee751cea",
   "metadata": {},
   "source": [
    "# Read the data"
   ]
  },
  {
   "cell_type": "code",
   "execution_count": 2,
   "id": "2e7bd454",
   "metadata": {},
   "outputs": [],
   "source": [
    "#Read and transform data\n",
    "train = pd.read_csv('training_data.csv')\n",
    "test = pd.read_csv('test_data.csv')\n",
    "\n",
    "X_train = train.drop(columns ='y')\n",
    "y_train = train['y']\n",
    "\n",
    "X_test = test.drop(columns ='y')\n",
    "y_test = test['y']\n",
    "\n",
    "#change the time here:\n",
    "\n",
    "time = 5"
   ]
  },
  {
   "cell_type": "markdown",
   "id": "bf4ac13c",
   "metadata": {},
   "source": [
    "# Regular simple model"
   ]
  },
  {
   "cell_type": "code",
   "execution_count": 3,
   "id": "7c87549b",
   "metadata": {},
   "outputs": [
    {
     "name": "stdout",
     "output_type": "stream",
     "text": [
      "Set parameter Username\n",
      "Academic license - for non-commercial use only - expires 2024-08-20\n"
     ]
    }
   ],
   "source": [
    "lm = gp.Model()\n",
    "num_features = X_train.shape[1] + 1\n",
    "beta = lm.addMVar(num_features, lb=-np.inf)  \n",
    "\n",
    "\n",
    "observations = X_train.shape[0]  \n",
    "\n",
    "lm.setObjective(gp.quicksum(\n",
    "    (beta[0] + gp.quicksum(beta[j+1] * X_train.iloc[i, j] for j in range(num_features - 1)) - y_train[i]) *\n",
    "    (beta[0] + gp.quicksum(beta[j+1] * X_train.iloc[i, j] for j in range(num_features - 1)) - y_train[i])\n",
    "    for i in range(observations)\n",
    "))\n",
    "\n",
    "lm.Params.OutputFlag = 0  # tell gurobi to shut up!!\n",
    "lm.optimize()\n"
   ]
  },
  {
   "cell_type": "code",
   "execution_count": 4,
   "id": "35e9ef7c",
   "metadata": {},
   "outputs": [
    {
     "data": {
      "text/plain": [
       "523.0149595263647"
      ]
     },
     "execution_count": 4,
     "metadata": {},
     "output_type": "execute_result"
    }
   ],
   "source": [
    "lm.objVal"
   ]
  },
  {
   "cell_type": "code",
   "execution_count": 5,
   "id": "93664501",
   "metadata": {},
   "outputs": [
    {
     "data": {
      "text/plain": [
       "array([ 0.96181997, -0.03124313,  0.10830046,  0.33658635,  0.34788706,\n",
       "       -0.07805158, -0.26870205,  0.56917466, -0.09265014, -2.80170764,\n",
       "        0.5961224 ,  0.00342708, -0.40802441,  0.64028772,  0.34250235,\n",
       "       -0.35811603, -0.22662545,  0.47574886,  0.61818724,  0.5627165 ,\n",
       "        0.91343131,  0.1266948 , -0.44072877, -1.13218924,  0.71016955,\n",
       "        0.08281624, -1.48717747,  0.02439235, -0.38572888,  0.35864434,\n",
       "        0.08111228, -0.18165492,  0.74866389, -0.04257738,  1.2137678 ,\n",
       "       -0.53326153,  0.23934142,  0.25972978, -0.13112438, -1.09826371,\n",
       "        0.45402031, -0.59555224,  0.33959881, -0.4208102 ,  0.04031396,\n",
       "        1.8661944 , -0.01828012,  1.07420755,  0.147014  ,  0.56919769,\n",
       "       -0.22109118])"
      ]
     },
     "execution_count": 5,
     "metadata": {},
     "output_type": "execute_result"
    }
   ],
   "source": [
    "beta.x"
   ]
  },
  {
   "cell_type": "markdown",
   "id": "474a4092",
   "metadata": {},
   "source": [
    "# Gurobi Model"
   ]
  },
  {
   "cell_type": "code",
   "execution_count": 6,
   "id": "2124daae",
   "metadata": {},
   "outputs": [],
   "source": [
    "def gurobi(X,y,k):\n",
    "    #Gurobi MIQP model\n",
    "    lm = gp.Model()\n",
    "    num_features = X.shape[1] + 1\n",
    "    observations = X.shape[0]  \n",
    "\n",
    "    beta = lm.addMVar(num_features, lb=-np.inf)  \n",
    "    z = lm.addMVar(num_features, vtype='B')\n",
    "\n",
    "    M = 138 #setting this as the sum of all highest values in x\n",
    "    k = k\n",
    "\n",
    "    lm.setObjective(gp.quicksum(\n",
    "        (beta[0] + gp.quicksum(beta[j+1] * X.iloc[i, j] for j in range(num_features - 1)) - y[i]) *\n",
    "        (beta[0] + gp.quicksum(beta[j+1] * X.iloc[i, j] for j in range(num_features - 1)) - y[i])\n",
    "        for i in range(observations)\n",
    "    ))\n",
    "\n",
    "    for j in range(num_features - 1):\n",
    "        lm.addConstr(beta[j + 1] <= M * z[j + 1])\n",
    "        lm.addConstr(beta[j + 1] >= -M * z[j + 1])\n",
    "\n",
    "    lm.addConstr(z.sum() <= k)\n",
    "\n",
    "    lm.Params.OutputFlag = 0  # tell gurobi to shut up!!\n",
    "    lm.Params.TimeLimit = time\n",
    "    lm.optimize()\n",
    "    \n",
    "    return beta.x\n",
    "\n",
    "\n",
    "def error(y_true, y_predict):\n",
    "    #Sum of squared errors\n",
    "    return sum((y_true - y_predict)**2)\n",
    "\n",
    "def predict(X, betas):\n",
    "    #Matrix multiplication between X and betas. Since betas has one value for intercept, adding betas[0] separate\n",
    "    return X @ betas[1:] + betas[0]"
   ]
  },
  {
   "cell_type": "code",
   "execution_count": 7,
   "id": "e1560aca",
   "metadata": {},
   "outputs": [
    {
     "data": {
      "text/plain": [
       "array([ 0.97252408,  0.        ,  0.        ,  0.        ,  0.        ,\n",
       "        0.        ,  0.        ,  0.        ,  0.        , -2.30820726,\n",
       "        0.        ,  0.        ,  0.        ,  0.        ,  0.        ,\n",
       "       -0.51832612, -0.20416201,  0.        ,  0.        ,  0.        ,\n",
       "        0.        ,  0.        ,  0.        , -1.55914318,  0.86697336,\n",
       "        0.        , -1.31191942,  0.        ,  0.        ,  0.        ,\n",
       "        0.        ,  0.        ,  0.        ,  0.        ,  0.4081653 ,\n",
       "        0.        ,  0.        ,  0.        ,  0.        ,  0.        ,\n",
       "        0.        ,  0.        ,  0.        ,  0.        ,  0.        ,\n",
       "        1.78147489,  0.        ,  0.88738292, -0.28229213,  0.        ,\n",
       "        0.        ])"
      ]
     },
     "execution_count": 7,
     "metadata": {},
     "output_type": "execute_result"
    }
   ],
   "source": [
    "gurobi(X_train,y_train,10)"
   ]
  },
  {
   "cell_type": "markdown",
   "id": "4fcc21b8",
   "metadata": {},
   "source": [
    "# Gurobi with Cross Validation"
   ]
  },
  {
   "cell_type": "code",
   "execution_count": 8,
   "id": "1b55b7cb",
   "metadata": {},
   "outputs": [],
   "source": [
    "num_samples = len(X_train)\n",
    "k_folds = 10\n",
    "k_folds_dict = {}\n",
    "\n",
    "# Create 10 train-test splits\n",
    "for i in range(k_folds):\n",
    "    indices = np.arange(num_samples)\n",
    "    np.random.seed(42)\n",
    "    np.random.shuffle(indices)  # Random shuffle\n",
    "    split_index = int(num_samples * 0.9)  # Set the train as 90%\n",
    "\n",
    "    train_indices = indices[:split_index]  # 90% of data for training\n",
    "    test_indices = indices[split_index:]  # 10% of data for testing\n",
    "\n",
    "    index_dict = {\n",
    "        'train_indices': train_indices,\n",
    "        'test_indices': test_indices\n",
    "    }\n",
    "    k_folds_dict[i] = index_dict\n"
   ]
  },
  {
   "cell_type": "code",
   "execution_count": 9,
   "id": "c861584c",
   "metadata": {},
   "outputs": [
    {
     "data": {
      "text/html": [
       "<div>\n",
       "<style scoped>\n",
       "    .dataframe tbody tr th:only-of-type {\n",
       "        vertical-align: middle;\n",
       "    }\n",
       "\n",
       "    .dataframe tbody tr th {\n",
       "        vertical-align: top;\n",
       "    }\n",
       "\n",
       "    .dataframe thead th {\n",
       "        text-align: right;\n",
       "    }\n",
       "</style>\n",
       "<table border=\"1\" class=\"dataframe\">\n",
       "  <thead>\n",
       "    <tr style=\"text-align: right;\">\n",
       "      <th></th>\n",
       "      <th>5</th>\n",
       "      <th>10</th>\n",
       "      <th>15</th>\n",
       "      <th>20</th>\n",
       "      <th>25</th>\n",
       "      <th>30</th>\n",
       "      <th>35</th>\n",
       "      <th>40</th>\n",
       "      <th>45</th>\n",
       "      <th>50</th>\n",
       "    </tr>\n",
       "  </thead>\n",
       "  <tbody>\n",
       "    <tr>\n",
       "      <th>0</th>\n",
       "      <td>105.502243</td>\n",
       "      <td>75.159419</td>\n",
       "      <td>79.594713</td>\n",
       "      <td>75.431373</td>\n",
       "      <td>80.213236</td>\n",
       "      <td>76.238826</td>\n",
       "      <td>86.274678</td>\n",
       "      <td>88.048235</td>\n",
       "      <td>89.309151</td>\n",
       "      <td>89.027363</td>\n",
       "    </tr>\n",
       "    <tr>\n",
       "      <th>1</th>\n",
       "      <td>74.944402</td>\n",
       "      <td>73.177004</td>\n",
       "      <td>74.849565</td>\n",
       "      <td>82.109027</td>\n",
       "      <td>83.86702</td>\n",
       "      <td>88.311779</td>\n",
       "      <td>82.52042</td>\n",
       "      <td>84.365714</td>\n",
       "      <td>82.995938</td>\n",
       "      <td>83.135875</td>\n",
       "    </tr>\n",
       "    <tr>\n",
       "      <th>2</th>\n",
       "      <td>124.893908</td>\n",
       "      <td>79.810041</td>\n",
       "      <td>82.855982</td>\n",
       "      <td>84.604071</td>\n",
       "      <td>78.393683</td>\n",
       "      <td>84.152873</td>\n",
       "      <td>84.271027</td>\n",
       "      <td>89.71936</td>\n",
       "      <td>88.595578</td>\n",
       "      <td>89.518153</td>\n",
       "    </tr>\n",
       "    <tr>\n",
       "      <th>3</th>\n",
       "      <td>91.132889</td>\n",
       "      <td>76.132893</td>\n",
       "      <td>79.323073</td>\n",
       "      <td>84.118208</td>\n",
       "      <td>81.302433</td>\n",
       "      <td>78.744248</td>\n",
       "      <td>77.407272</td>\n",
       "      <td>75.506243</td>\n",
       "      <td>76.400727</td>\n",
       "      <td>76.280872</td>\n",
       "    </tr>\n",
       "    <tr>\n",
       "      <th>4</th>\n",
       "      <td>61.056586</td>\n",
       "      <td>50.786516</td>\n",
       "      <td>44.940572</td>\n",
       "      <td>49.193508</td>\n",
       "      <td>39.674736</td>\n",
       "      <td>41.088536</td>\n",
       "      <td>44.392446</td>\n",
       "      <td>47.75822</td>\n",
       "      <td>48.308163</td>\n",
       "      <td>48.03346</td>\n",
       "    </tr>\n",
       "    <tr>\n",
       "      <th>5</th>\n",
       "      <td>96.136439</td>\n",
       "      <td>79.772588</td>\n",
       "      <td>64.690549</td>\n",
       "      <td>63.657745</td>\n",
       "      <td>65.234597</td>\n",
       "      <td>70.217542</td>\n",
       "      <td>73.529266</td>\n",
       "      <td>71.77691</td>\n",
       "      <td>70.441992</td>\n",
       "      <td>70.44799</td>\n",
       "    </tr>\n",
       "    <tr>\n",
       "      <th>6</th>\n",
       "      <td>127.835689</td>\n",
       "      <td>94.369585</td>\n",
       "      <td>93.910987</td>\n",
       "      <td>90.123201</td>\n",
       "      <td>92.852781</td>\n",
       "      <td>90.543352</td>\n",
       "      <td>95.697752</td>\n",
       "      <td>93.193308</td>\n",
       "      <td>92.936657</td>\n",
       "      <td>93.000652</td>\n",
       "    </tr>\n",
       "    <tr>\n",
       "      <th>7</th>\n",
       "      <td>66.524048</td>\n",
       "      <td>52.617552</td>\n",
       "      <td>56.128105</td>\n",
       "      <td>54.234456</td>\n",
       "      <td>54.396602</td>\n",
       "      <td>57.827109</td>\n",
       "      <td>57.530103</td>\n",
       "      <td>59.940797</td>\n",
       "      <td>58.908477</td>\n",
       "      <td>59.488887</td>\n",
       "    </tr>\n",
       "    <tr>\n",
       "      <th>8</th>\n",
       "      <td>74.736541</td>\n",
       "      <td>71.205741</td>\n",
       "      <td>78.884039</td>\n",
       "      <td>83.690509</td>\n",
       "      <td>76.275999</td>\n",
       "      <td>77.847021</td>\n",
       "      <td>82.816094</td>\n",
       "      <td>78.590264</td>\n",
       "      <td>79.251896</td>\n",
       "      <td>79.395952</td>\n",
       "    </tr>\n",
       "    <tr>\n",
       "      <th>9</th>\n",
       "      <td>127.979037</td>\n",
       "      <td>104.587255</td>\n",
       "      <td>103.157133</td>\n",
       "      <td>121.500091</td>\n",
       "      <td>113.498847</td>\n",
       "      <td>115.1382</td>\n",
       "      <td>107.229227</td>\n",
       "      <td>108.409042</td>\n",
       "      <td>108.989415</td>\n",
       "      <td>108.326102</td>\n",
       "    </tr>\n",
       "  </tbody>\n",
       "</table>\n",
       "</div>"
      ],
      "text/plain": [
       "           5           10          15          20          25         30  \\\n",
       "0  105.502243   75.159419   79.594713   75.431373   80.213236  76.238826   \n",
       "1   74.944402   73.177004   74.849565   82.109027    83.86702  88.311779   \n",
       "2  124.893908   79.810041   82.855982   84.604071   78.393683  84.152873   \n",
       "3   91.132889   76.132893   79.323073   84.118208   81.302433  78.744248   \n",
       "4   61.056586   50.786516   44.940572   49.193508   39.674736  41.088536   \n",
       "5   96.136439   79.772588   64.690549   63.657745   65.234597  70.217542   \n",
       "6  127.835689   94.369585   93.910987   90.123201   92.852781  90.543352   \n",
       "7   66.524048   52.617552   56.128105   54.234456   54.396602  57.827109   \n",
       "8   74.736541   71.205741   78.884039   83.690509   76.275999  77.847021   \n",
       "9  127.979037  104.587255  103.157133  121.500091  113.498847   115.1382   \n",
       "\n",
       "           35          40          45          50  \n",
       "0   86.274678   88.048235   89.309151   89.027363  \n",
       "1    82.52042   84.365714   82.995938   83.135875  \n",
       "2   84.271027    89.71936   88.595578   89.518153  \n",
       "3   77.407272   75.506243   76.400727   76.280872  \n",
       "4   44.392446    47.75822   48.308163    48.03346  \n",
       "5   73.529266    71.77691   70.441992    70.44799  \n",
       "6   95.697752   93.193308   92.936657   93.000652  \n",
       "7   57.530103   59.940797   58.908477   59.488887  \n",
       "8   82.816094   78.590264   79.251896   79.395952  \n",
       "9  107.229227  108.409042  108.989415  108.326102  "
      ]
     },
     "execution_count": 9,
     "metadata": {},
     "output_type": "execute_result"
    }
   ],
   "source": [
    "#Here just creating an empty dictionary and setting the values for K\n",
    "k_options = np.arange(5,51,5)\n",
    "\n",
    "dict_gurobi = pd.DataFrame(index=k_folds_dict.keys(),columns=k_options)\n",
    "\n",
    "for k_fold, indices_dict in k_folds_dict.items():\n",
    "\n",
    "    # Get our training folds and testing folds\n",
    "    X_train_fold = X_train.iloc[indices_dict['train_indices']]\n",
    "    y_train_fold = y_train.iloc[indices_dict['train_indices']]\n",
    "\n",
    "    X_test_fold = X_train.iloc[indices_dict['test_indices']]\n",
    "    y_test_fold = y_train.iloc[indices_dict['test_indices']]\n",
    "    \n",
    "    X_train_fold.reset_index(drop=True, inplace=True)\n",
    "    y_train_fold.reset_index(drop=True, inplace=True)\n",
    "    \n",
    "    X_test_fold.reset_index(drop=True, inplace=True)\n",
    "    y_test_fold.reset_index(drop=True, inplace=True)\n",
    "\n",
    "    # Now let's try out all of the possible k values\n",
    "    for k in k_options:\n",
    "        optimal_betas = gurobi(X_train_fold,y_train_fold,k)\n",
    "\n",
    "        validation_mse = error(y_test_fold,predict(X_test_fold,optimal_betas))\n",
    "\n",
    "        dict_gurobi.loc[k_fold,k] = validation_mse\n",
    "\n",
    "dict_gurobi.to_csv('gurobi_error_results.csv',index=False)\n",
    "\n",
    "dict_gurobi"
   ]
  },
  {
   "cell_type": "code",
   "execution_count": 10,
   "id": "8ee5867d",
   "metadata": {},
   "outputs": [
    {
     "data": {
      "text/html": [
       "<div>\n",
       "<style scoped>\n",
       "    .dataframe tbody tr th:only-of-type {\n",
       "        vertical-align: middle;\n",
       "    }\n",
       "\n",
       "    .dataframe tbody tr th {\n",
       "        vertical-align: top;\n",
       "    }\n",
       "\n",
       "    .dataframe thead th {\n",
       "        text-align: right;\n",
       "    }\n",
       "</style>\n",
       "<table border=\"1\" class=\"dataframe\">\n",
       "  <thead>\n",
       "    <tr style=\"text-align: right;\">\n",
       "      <th></th>\n",
       "      <th>SSE</th>\n",
       "    </tr>\n",
       "  </thead>\n",
       "  <tbody>\n",
       "    <tr>\n",
       "      <th>5</th>\n",
       "      <td>950.741781</td>\n",
       "    </tr>\n",
       "    <tr>\n",
       "      <th>10</th>\n",
       "      <td>757.618593</td>\n",
       "    </tr>\n",
       "    <tr>\n",
       "      <th>15</th>\n",
       "      <td>758.334717</td>\n",
       "    </tr>\n",
       "    <tr>\n",
       "      <th>20</th>\n",
       "      <td>788.662189</td>\n",
       "    </tr>\n",
       "    <tr>\n",
       "      <th>25</th>\n",
       "      <td>765.709933</td>\n",
       "    </tr>\n",
       "    <tr>\n",
       "      <th>30</th>\n",
       "      <td>780.109487</td>\n",
       "    </tr>\n",
       "    <tr>\n",
       "      <th>35</th>\n",
       "      <td>791.668286</td>\n",
       "    </tr>\n",
       "    <tr>\n",
       "      <th>40</th>\n",
       "      <td>797.308093</td>\n",
       "    </tr>\n",
       "    <tr>\n",
       "      <th>45</th>\n",
       "      <td>796.137994</td>\n",
       "    </tr>\n",
       "    <tr>\n",
       "      <th>50</th>\n",
       "      <td>796.655306</td>\n",
       "    </tr>\n",
       "  </tbody>\n",
       "</table>\n",
       "</div>"
      ],
      "text/plain": [
       "           SSE\n",
       "5   950.741781\n",
       "10  757.618593\n",
       "15  758.334717\n",
       "20  788.662189\n",
       "25  765.709933\n",
       "30  780.109487\n",
       "35  791.668286\n",
       "40  797.308093\n",
       "45  796.137994\n",
       "50  796.655306"
      ]
     },
     "execution_count": 10,
     "metadata": {},
     "output_type": "execute_result"
    }
   ],
   "source": [
    "#Add the SSE for all folds for each K\n",
    "\n",
    "sse_fold = dict_gurobi.sum()\n",
    "sse_fold = pd.DataFrame(sse_fold,columns=['SSE'])\n",
    "sse_fold"
   ]
  },
  {
   "cell_type": "code",
   "execution_count": 11,
   "id": "25d037d6",
   "metadata": {},
   "outputs": [
    {
     "data": {
      "text/plain": [
       "Text(0, 0.5, 'SSE for all folds')"
      ]
     },
     "execution_count": 11,
     "metadata": {},
     "output_type": "execute_result"
    },
    {
     "data": {
      "image/png": "[encoded data removed]",
      "text/plain": [
       "<Figure size 1600x500 with 1 Axes>"
      ]
     },
     "metadata": {},
     "output_type": "display_data"
    }
   ],
   "source": [
    "sse_fold.plot(figsize=(16,5))\n",
    "plt.title('Total SSE per K')\n",
    "plt.xlabel('K')\n",
    "plt.ylabel('SSE for all folds')"
   ]
  },
  {
   "cell_type": "code",
   "execution_count": 12,
   "id": "c59927c3",
   "metadata": {},
   "outputs": [
    {
     "name": "stdout",
     "output_type": "stream",
     "text": [
      "The best K is 10\n"
     ]
    }
   ],
   "source": [
    "#Let's save our best K here\n",
    "\n",
    "best_k = sse_fold.astype(float).idxmin().values[0]\n",
    "print(f'The best K is {best_k}')\n"
   ]
  },
  {
   "cell_type": "code",
   "execution_count": 13,
   "id": "ff520e85",
   "metadata": {},
   "outputs": [
    {
     "name": "stdout",
     "output_type": "stream",
     "text": [
      "The SSE for Gurobi with K = 10 is 121.42\n",
      "The MSE for Gurobi with K = 10 is 2.43\n",
      "The R2 for Gurobi with K = 10 is 0.85\n"
     ]
    }
   ],
   "source": [
    "#Now let's run a Gurobi model using the best K\n",
    "\n",
    "best_gurobi_betas = gurobi(X_train,y_train,best_k)\n",
    "best_gurobi_prediction = predict(X_test,optimal_betas)\n",
    "best_gurobi_error = error(y_test,best_gurobi_prediction)\n",
    "best_gurobi_mse = mean_squared_error(y_test,best_gurobi_prediction)\n",
    "best_gurobi_rsq = r2_score(y_test,best_gurobi_prediction)\n",
    "\n",
    "print(f'The SSE for Gurobi with K = {best_k} is {best_gurobi_error:.2f}')\n",
    "print(f'The MSE for Gurobi with K = {best_k} is {best_gurobi_mse:.2f}')\n",
    "print(f'The R2 for Gurobi with K = {best_k} is {best_gurobi_rsq:.2f}')"
   ]
  },
  {
   "cell_type": "markdown",
   "id": "eb6061b0",
   "metadata": {},
   "source": [
    "# Lasso selecting lambda with sklearn"
   ]
  },
  {
   "cell_type": "code",
   "execution_count": 16,
   "id": "c7cf9cc5",
   "metadata": {},
   "outputs": [
    {
     "name": "stdout",
     "output_type": "stream",
     "text": [
      "The best lambda = 0.07638765995113514\n"
     ]
    }
   ],
   "source": [
    "lasso_cv = linear_model.LassoCV(cv=10).fit(X_train,y_train)\n",
    "best_lambda = lasso_cv.alpha_\n",
    "print(f'The best lambda = {best_lambda}')"
   ]
  },
  {
   "cell_type": "code",
   "execution_count": 23,
   "id": "a1dd1e66",
   "metadata": {},
   "outputs": [
    {
     "name": "stdout",
     "output_type": "stream",
     "text": [
      "The SSE for Lasso with lambda = 0.08 is 117.48\n",
      "The MSE for Lasso with lambda = 0.08 is 2.35\n",
      "The RSQ for Lasso with lambda = 0.08 is 0.86\n"
     ]
    }
   ],
   "source": [
    "#Now create a Lasso model\n",
    "\n",
    "lasso_model = Lasso(best_lambda).fit(X_train, y_train)\n",
    "\n",
    "lasso_predictions = lasso_model.predict(X_test)\n",
    "lasso_sse = error(y_test,lasso_predictions)\n",
    "lasso_mse = mean_squared_error(y_test,lasso_predictions)\n",
    "lasso_rsq = r2_score(y_test,lasso_predictions)\n",
    "\n",
    "print(f'The SSE for Lasso with lambda = {best_lambda:.2f} is {lasso_sse:.2f}')\n",
    "print(f'The MSE for Lasso with lambda = {best_lambda:.2f} is {lasso_mse:.2f}')\n",
    "print(f'The RSQ for Lasso with lambda = {best_lambda:.2f} is {lasso_rsq:.2f}')"
   ]
  },
  {
   "cell_type": "markdown",
   "id": "347cb792",
   "metadata": {},
   "source": [
    "# Comparison between models"
   ]
  },
  {
   "cell_type": "code",
   "execution_count": 28,
   "id": "42e56014",
   "metadata": {},
   "outputs": [
    {
     "data": {
      "text/plain": [
       "array([-0.        , -0.        ,  0.        ,  0.        , -0.        ,\n",
       "        0.        , -0.        , -0.        , -2.16054765,  0.        ,\n",
       "       -0.05964031, -0.        , -0.        , -0.        , -0.41912484,\n",
       "       -0.19325408,  0.        ,  0.        , -0.        ,  0.        ,\n",
       "        0.        , -0.19517759, -1.36388738,  0.7425965 , -0.        ,\n",
       "       -1.30481574, -0.        ,  0.        ,  0.05798283,  0.        ,\n",
       "       -0.        ,  0.        , -0.09737839,  0.28341629,  0.        ,\n",
       "        0.        ,  0.        ,  0.        , -0.23157873,  0.        ,\n",
       "       -0.        ,  0.        ,  0.        ,  0.03078191,  1.56362172,\n",
       "       -0.02160033,  0.69992447, -0.09289745,  0.        ,  0.        ])"
      ]
     },
     "execution_count": 28,
     "metadata": {},
     "output_type": "execute_result"
    }
   ],
   "source": [
    "lasso_model.coef_"
   ]
  },
  {
   "cell_type": "code",
   "execution_count": 29,
   "id": "24b3ab00",
   "metadata": {},
   "outputs": [
    {
     "data": {
      "text/plain": [
       "17"
      ]
     },
     "execution_count": 29,
     "metadata": {},
     "output_type": "execute_result"
    }
   ],
   "source": [
    "#Check the number of features selected with Lasso\n",
    "(lasso_model.coef_ != 0).sum()"
   ]
  },
  {
   "cell_type": "code",
   "execution_count": 27,
   "id": "92314fa4",
   "metadata": {},
   "outputs": [
    {
     "data": {
      "text/plain": [
       "array([ 0.        ,  0.        ,  0.        ,  0.        ,  0.        ,\n",
       "        0.        ,  0.        ,  0.        , -2.30820726,  0.        ,\n",
       "        0.        ,  0.        ,  0.        ,  0.        , -0.51832612,\n",
       "       -0.20416201,  0.        ,  0.        ,  0.        ,  0.        ,\n",
       "        0.        ,  0.        , -1.55914318,  0.86697336,  0.        ,\n",
       "       -1.31191942,  0.        ,  0.        ,  0.        ,  0.        ,\n",
       "        0.        ,  0.        ,  0.        ,  0.4081653 ,  0.        ,\n",
       "        0.        ,  0.        ,  0.        ,  0.        ,  0.        ,\n",
       "        0.        ,  0.        ,  0.        ,  0.        ,  1.78147489,\n",
       "        0.        ,  0.88738292, -0.28229213,  0.        ,  0.        ])"
      ]
     },
     "execution_count": 27,
     "metadata": {},
     "output_type": "execute_result"
    }
   ],
   "source": [
    "best_gurobi_betas[1:]"
   ]
  },
  {
   "cell_type": "code",
   "execution_count": 30,
   "id": "a4643322",
   "metadata": {},
   "outputs": [
    {
     "data": {
      "text/plain": [
       "10"
      ]
     },
     "execution_count": 30,
     "metadata": {},
     "output_type": "execute_result"
    }
   ],
   "source": [
    "#Check the number of features selected with MIQP\n",
    "(best_gurobi_betas[1:] != 0).sum()"
   ]
  }
 ],
 "metadata": {
  "kernelspec": {
   "display_name": "Python 3 (ipykernel)",
   "language": "python",
   "name": "python3"
  },
  "language_info": {
   "codemirror_mode": {
    "name": "ipython",
    "version": 3
   },
   "file_extension": ".py",
   "mimetype": "text/x-python",
   "name": "python",
   "nbconvert_exporter": "python",
   "pygments_lexer": "ipython3",
   "version": "3.11.2"
  }
 },
 "nbformat": 4,
 "nbformat_minor": 5
}
